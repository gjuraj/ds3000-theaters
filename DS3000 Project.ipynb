{
  "cells":[
    {
      "cell_type":"markdown",
      "source":[
        "<h1><center>DS 3000 - Fall 2021<\/center><\/h1>\n",
        "<h1><center>DS Report<\/center><\/h1>"
      ],
      "attachments":{
        
      },
      "metadata":{
        
      }
    },
    {
      "cell_type":"markdown",
      "source":[
        "<h1><center>Predicting Movie Box Office Collections Worldwide From the Top 200 Grossing Movies per Year<\/center><\/h1>\n",
        "<h3><center>Nicholas Gjuraj, Dhivas Sugumar, Avinash Makkena<\/center><\/h3>"
      ],
      "attachments":{
        
      },
      "metadata":{
        
      }
    },
    {
      "cell_type":"markdown",
      "source":[
        "### **Executive Summary**: \n",
        " \n",
        "The film industry is one of the largest and most profitable industries in the world; however, it is known for its volatile nature with no sure-shot way of predicting the way a film will perform at the box office. Although some films, depending upon the cast, crew, and distributor attached to the film, one can make general predictions on how the film will perform, such as expecting a Disney film to perform really well in the box office. In this project, we wanted to create a more accurate prediction system that utilized past data of films to make intelligent predictions in terms of how well a film will perform worldwide at the box office.\n",
        " \n",
        "To tackle this goal, we first needed data to train our prediction model off of. We got this data through scraping Box Office Mojo and The Numbers sites for film information. From this data, we decided data such as budget, distributor, and opening earnings would be treated as features and our main target variable is worldwide collections. Once we had this data, we tested multiple prediction models and optimized them through feature selection and tuning. We found that Linear Regression, K Neighbors Regressor, Lasso, and Ridge performed consistently and accurately in estimating the overall worldwide box office collection of a film."
      ],
      "attachments":{
        
      },
      "metadata":{
        
      }
    },
    {
      "cell_type":"markdown",
      "source":[
        "## **Outline**\n",
        "1. [<u>INTRODUCTION<\/u>](attachment:.\/#**1.-INTRODUCTION**)\n",
        "2. [<u>METHOD<\/u>](attachment:.\/#**2.-METHOD**)\n",
        "3. [<u>RESULTS<\/u>](attachment:.\/#**3.-RESULTS**)\n",
        "4. [<u>DISCUSSION<\/u>](attachment:.\/#**4.-DISCUSSION**)"
      ],
      "attachments":{
        
      },
      "metadata":{
        
      }
    },
    {
      "cell_type":"markdown",
      "source":[
        "# **1. INTRODUCTION**\n",
        "**Problem Statement**\n",
        "\n",
        "How are movie box office collections faring at the theaters in a pandemic world along with\n",
        "streaming platforms on the rise? With movie theaters and films back, we will try to develop a\n",
        "predictive model that will estimate box office collections for a film, according to past film\n",
        "collections.\n",
        "\n",
        "**Significance of the Problem**\n",
        "\n",
        "The film industry, specifically the movie theater box office, has been hit massively by the\n",
        "pandemic in a time where theatergoers were already on a decline due to the rise of streaming\n",
        "services. We find it important to inspect this problem and properly understand the box office\n",
        "performance of films in theaters, especially since so many jobs and livelihoods are dependent\n",
        "upon the film industry and how films perform at the box office. From this project, we hope to gain insights into how films are performing today, given current circumstances, and produce an accurate model as to how much a given film can perform at the box office.\n",
        "\n",
        "**Questions**\n",
        "\n",
        "Given the aforementioned problem and its importance, we set out to tackle the following questions:\n",
        "- How much does the distributor attached to a film correlate with the overall worldwide box office performance? \n",
        "- What are the most important features that determine how much a film makes given the dataset we scraped? \n",
        "- Does release date of the films in our dataset affect how much it can make in the box office? \n",
        "- Between Multiple Linear Regression, K Neighbors Regressor, Lasso, Ridge, and Support Vector Machine, which model will suit the best for our problem? \n",
        "- How accurate can we actually predict a box office performance of a film? We know that we have a lot of data(over 6000 samples) to draw a predictive model from but can we score consistent and precise estimations?\n",
        "\n",
        "\n"
      ],
      "attachments":{
        
      },
      "metadata":{
        
      }
    },
    {
      "cell_type":"markdown",
      "source":[
        "# **2. METHOD**"
      ],
      "attachments":{
        
      },
      "metadata":{
        
      }
    },
    {
      "cell_type":"code",
      "source":[
        
      ],
      "execution_count":0,
      "outputs":[
        
      ],
      "metadata":{
        
      }
    },
    {
      "cell_type":"markdown",
      "source":[
        "## **2.1 Data Acquisition**\n",
        "- We obtained our data through BoxOffice Mojo, world wide box office collections: https:\/\/www.boxofficemojo.com\/year\/world\/. \n",
        "    - Contains film box office performance for the top 200 grossing films from 1990 to the present time. The dataset also includes production details for each film. \n",
        "- We also used The Numbers site to obtain movie budgets: https:\/\/www.the-numbers.com\/movie\/budgets\/all. \n",
        "    - Contains the budgets for 6000+ movies over time. It also contains the release date for the movie, the gross worldwide, and gross domestic. Only the name of the movie and the budget were extracted from this website for our dataset. \n",
        "\n",
        "<u>Scraping Code:<\/u>\n",
        "\n",
        "Link to Scraping Code for BoxOfficeMojo: https:\/\/github.com\/gjuraj\/ds3000-theaters\/blob\/master\/fpwebscrape.ipynb\n",
        "\n",
        "Link to Scraping Code for Numbers site: https:\/\/github.com\/gjuraj\/ds3000-theaters\/blob\/1ef3564bf717cebca6baa905397f6dffb8ff1a31\/Dataset%20Budget.ipynb\n",
        "\n",
        "\n",
        "<u>Scraped Data:<\/u> \n",
        "\n",
        "Link to Scraped Data from BoxOfficeMojo: \"https:\/\/github.com\/gjuraj\/ds3000-theaters\/blob\/8d96d638d9565dec027eba25c3e8f6cbf8cb32bd\/bud_in_df.csv?raw=true\"\n",
        "\n",
        "Link to Scraped Data from Numbers site: https:\/\/github.com\/gjuraj\/ds3000-theaters\/blob\/8d96d638d9565dec027eba25c3e8f6cbf8cb32bd\/budget_movies-1.csv?raw=true\n",
        "\n",
        "Initially, our dataset has 6,400 rows, or 6,400 films. We have 13 variables that we will be collecting and using in our models. The varibales are described in detail below. \n",
        "\n",
        "**Variables**\n",
        "\n",
        "Feature Variables: \n",
        "- Rank: Rank per year (1-200) by ross earnings.\n",
        "- Title: Title of the movie. \n",
        "- Domestic: Domestic Earnings.\n",
        "- % from Domestic: % of total earnings from domestic. \n",
        "- Foreign: Foreign earnings. \n",
        "- % from Foreign: % of total earnings from foreign. \n",
        "- Release Date: Release date of the film. \n",
        "- Opening Earnings: Money made on the opening day of the film. \n",
        "- Domestic Distributor: The domestic distributor of the film. \n",
        "- Running Time: The run time of the film. \n",
        "- Genres: The genre of the film. \n",
        "- MPAA: MPAA rating of the film. \n",
        "- Budget: The budget of the movie. \n",
        "- Budget per minute of runtime: The budget per minute of runtime (A calculated feature)\n",
        "\n",
        "Outcome Variables:\n",
        "- Worldwide: Worldwide earnings (gross)\n",
        "\n",
        "\n",
        "Our dataset contains a vast variety of features ranging from monetary variables such as opening earnings, statistical variables such as genre, and box office distributor. We believe this gives our model, and our dataset a wide range of variables to look at and explore when it comes to predicting the worldwide gross of a past movie, or more excitingly the that of a movie to be released. \n",
        "\n"
      ],
      "attachments":{
        
      },
      "metadata":{
        
      }
    },
    {
      "cell_type":"markdown",
      "source":[
        "Here we read the BoxOfficeMojo csv from the github link that holds the BoxOfficeMojo dataset. This csv is stored as a pandas dataframe under the name df_first_fill. This dataset describes the title of the movie, the worldwide gross, the domestic gross, the release date, the opening earnings, the domestic distributor, Running Time, Genres, The MPAA Rating, and Budget. "
      ],
      "attachments":{
        
      },
      "metadata":{
        
      }
    },
    {
      "cell_type":"code",
      "source":[
        "import pandas as pd\n",
        "df_first_full = pd.read_csv(\"https:\/\/github.com\/gjuraj\/ds3000-theaters\/blob\/8d96d638d9565dec027eba25c3e8f6cbf8cb32bd\/bud_in_df.csv?raw=true\")\n",
        "df_first_full.head()"
      ],
      "execution_count":1,
      "outputs":[
        {
          "data":{
            "text\/html":[
              "<div>\n",
              "<style scoped>\n",
              "    .dataframe tbody tr th:only-of-type {\n",
              "        vertical-align: middle;\n",
              "    }\n",
              "\n",
              "    .dataframe tbody tr th {\n",
              "        vertical-align: top;\n",
              "    }\n",
              "\n",
              "    .dataframe thead th {\n",
              "        text-align: right;\n",
              "    }\n",
              "<\/style>\n",
              "<table border=\"1\" class=\"dataframe\">\n",
              "  <thead>\n",
              "    <tr style=\"text-align: right;\">\n",
              "      <th><\/th>\n",
              "      <th>Unnamed: 0<\/th>\n",
              "      <th>Rank<\/th>\n",
              "      <th>Title<\/th>\n",
              "      <th>Worldwide<\/th>\n",
              "      <th>Domestic<\/th>\n",
              "      <th>% from Domestic<\/th>\n",
              "      <th>Foreign<\/th>\n",
              "      <th>% from Foreign<\/th>\n",
              "      <th>Release Date<\/th>\n",
              "      <th>Opening Earnings<\/th>\n",
              "      <th>Domestic Distributor<\/th>\n",
              "      <th>Running Time<\/th>\n",
              "      <th>Genres<\/th>\n",
              "      <th>MPAA<\/th>\n",
              "      <th>Budget<\/th>\n",
              "    <\/tr>\n",
              "  <\/thead>\n",
              "  <tbody>\n",
              "    <tr>\n",
              "      <th>0<\/th>\n",
              "      <td>0<\/td>\n",
              "      <td>1<\/td>\n",
              "      <td>Home Alone<\/td>\n",
              "      <td>$285,761,244<\/td>\n",
              "      <td>$285,761,243<\/td>\n",
              "      <td>100%<\/td>\n",
              "      <td>$1<\/td>\n",
              "      <td>&lt;0.1%<\/td>\n",
              "      <td>Nov 16, 1990<\/td>\n",
              "      <td>$17,081,997<\/td>\n",
              "      <td>Twentieth Century Fox<\/td>\n",
              "      <td>1 hr 43 min<\/td>\n",
              "      <td>Comedy Family<\/td>\n",
              "      <td>-<\/td>\n",
              "      <td>$18,000,000<\/td>\n",
              "    <\/tr>\n",
              "    <tr>\n",
              "      <th>1<\/th>\n",
              "      <td>1<\/td>\n",
              "      <td>2<\/td>\n",
              "      <td>Ghost<\/td>\n",
              "      <td>$217,631,306<\/td>\n",
              "      <td>$217,631,306<\/td>\n",
              "      <td>100%<\/td>\n",
              "      <td>-<\/td>\n",
              "      <td>-<\/td>\n",
              "      <td>Jul 13, 1990<\/td>\n",
              "      <td>$12,191,540<\/td>\n",
              "      <td>Paramount Pictures<\/td>\n",
              "      <td>2 hr 7 min<\/td>\n",
              "      <td>Drama Fantasy Romance Thriller<\/td>\n",
              "      <td>-<\/td>\n",
              "      <td>$22,000,000<\/td>\n",
              "    <\/tr>\n",
              "    <tr>\n",
              "      <th>2<\/th>\n",
              "      <td>2<\/td>\n",
              "      <td>3<\/td>\n",
              "      <td>Dances with Wolves<\/td>\n",
              "      <td>$184,208,848<\/td>\n",
              "      <td>$184,208,848<\/td>\n",
              "      <td>100%<\/td>\n",
              "      <td>-<\/td>\n",
              "      <td>-<\/td>\n",
              "      <td>Nov 9, 1990<\/td>\n",
              "      <td>$598,257<\/td>\n",
              "      <td>Orion Pictures<\/td>\n",
              "      <td>3 hr 1 min<\/td>\n",
              "      <td>Adventure Drama Western<\/td>\n",
              "      <td>-<\/td>\n",
              "      <td>$22,000,000<\/td>\n",
              "    <\/tr>\n",
              "    <tr>\n",
              "      <th>3<\/th>\n",
              "      <td>3<\/td>\n",
              "      <td>4<\/td>\n",
              "      <td>Pretty Woman<\/td>\n",
              "      <td>$178,406,268<\/td>\n",
              "      <td>$178,406,268<\/td>\n",
              "      <td>100%<\/td>\n",
              "      <td>-<\/td>\n",
              "      <td>-<\/td>\n",
              "      <td>Mar 23, 1990<\/td>\n",
              "      <td>$11,280,591<\/td>\n",
              "      <td>Walt Disney Studios Motion Pictures<\/td>\n",
              "      <td>1 hr 59 min<\/td>\n",
              "      <td>Comedy Romance<\/td>\n",
              "      <td>R<\/td>\n",
              "      <td>$14,000,000<\/td>\n",
              "    <\/tr>\n",
              "    <tr>\n",
              "      <th>4<\/th>\n",
              "      <td>4<\/td>\n",
              "      <td>5<\/td>\n",
              "      <td>Teenage Mutant Ninja Turtles<\/td>\n",
              "      <td>$135,265,915<\/td>\n",
              "      <td>$135,265,915<\/td>\n",
              "      <td>100%<\/td>\n",
              "      <td>-<\/td>\n",
              "      <td>-<\/td>\n",
              "      <td>Mar 30, 1990<\/td>\n",
              "      <td>$25,398,367<\/td>\n",
              "      <td>New Line Cinema<\/td>\n",
              "      <td>1 hr 33 min<\/td>\n",
              "      <td>Action Adventure Comedy Family Sci-Fi<\/td>\n",
              "      <td>-<\/td>\n",
              "      <td>$13,500,000<\/td>\n",
              "    <\/tr>\n",
              "  <\/tbody>\n",
              "<\/table>\n",
              "<\/div>"
            ]
          },
          "metadata":{
            
          },
          "output_type":"display_data"
        }
      ],
      "metadata":{
        
      }
    },
    {
      "cell_type":"markdown",
      "source":[
        "Here we read the budgets csv from the github link that holds The Numbers Budget dataset. This csv is stored as a pandas dataframe under the name df_budgets. This dataset holds the movie name, and the budget. "
      ],
      "attachments":{
        
      },
      "metadata":{
        
      }
    },
    {
      "cell_type":"code",
      "source":[
        "df_budgets = pd.read_csv(\"https:\/\/github.com\/gjuraj\/ds3000-theaters\/blob\/8d96d638d9565dec027eba25c3e8f6cbf8cb32bd\/budget_movies-1.csv?raw=true\")\n",
        "df_budgets.head()"
      ],
      "execution_count":2,
      "outputs":[
        {
          "data":{
            "text\/html":[
              "<div>\n",
              "<style scoped>\n",
              "    .dataframe tbody tr th:only-of-type {\n",
              "        vertical-align: middle;\n",
              "    }\n",
              "\n",
              "    .dataframe tbody tr th {\n",
              "        vertical-align: top;\n",
              "    }\n",
              "\n",
              "    .dataframe thead th {\n",
              "        text-align: right;\n",
              "    }\n",
              "<\/style>\n",
              "<table border=\"1\" class=\"dataframe\">\n",
              "  <thead>\n",
              "    <tr style=\"text-align: right;\">\n",
              "      <th><\/th>\n",
              "      <th>Unnamed: 0<\/th>\n",
              "      <th>Movie name<\/th>\n",
              "      <th>budget<\/th>\n",
              "    <\/tr>\n",
              "  <\/thead>\n",
              "  <tbody>\n",
              "    <tr>\n",
              "      <th>0<\/th>\n",
              "      <td>0<\/td>\n",
              "      <td>Avengers: Endgame<\/td>\n",
              "      <td>$400,000,000<\/td>\n",
              "    <\/tr>\n",
              "    <tr>\n",
              "      <th>1<\/th>\n",
              "      <td>1<\/td>\n",
              "      <td>Pirates of the Caribbean: On Stranger Tides<\/td>\n",
              "      <td>$379,000,000<\/td>\n",
              "    <\/tr>\n",
              "    <tr>\n",
              "      <th>2<\/th>\n",
              "      <td>2<\/td>\n",
              "      <td>Avengers: Age of Ultron<\/td>\n",
              "      <td>$365,000,000<\/td>\n",
              "    <\/tr>\n",
              "    <tr>\n",
              "      <th>3<\/th>\n",
              "      <td>3<\/td>\n",
              "      <td>Star Wars Ep. VII: The Force Awakens<\/td>\n",
              "      <td>$306,000,000<\/td>\n",
              "    <\/tr>\n",
              "    <tr>\n",
              "      <th>4<\/th>\n",
              "      <td>4<\/td>\n",
              "      <td>Avengers: Infinity War<\/td>\n",
              "      <td>$300,000,000<\/td>\n",
              "    <\/tr>\n",
              "  <\/tbody>\n",
              "<\/table>\n",
              "<\/div>"
            ]
          },
          "metadata":{
            
          },
          "output_type":"display_data"
        }
      ],
      "metadata":{
        
      }
    },
    {
      "cell_type":"markdown",
      "source":[
        "## **2.2. Data Analysis**\n",
        "\n",
        "\n",
        "**Predictive Model**\n",
        "\n",
        "We are going to be predicting the worldwide gross of a movie from information such as opening earnings, genre, budget, running time, budget per minute of runtime of a movie. In other words we should be able to predict the worldwide gross of a movie given the above information for the movie that we would know before release, or at the very least, on the first day of release.\n",
        "\n",
        "We chose the above listed features as important predictors, since those are all values or properties a film has going into a full release. A strong opening earnings could be an indicator of how well it will perform in the long-term while a weak opening earnings can indicate the lack of audience interest in the film and much lower performance in overall box office colections. Features such as genre and running time can determine the scope of audience the film can cater to or in other words the number of people who would go watch a given film. Budget and run time are both important indicators of the scale of the film. A high budget and and high run-time could equate to grander scale of cinema, and therefore either attract or discourage people from watching the film. \n",
        "\n",
        "**A Supervised Learning Problem**\n",
        "\n",
        "This is a supervised learning problem, specifically a regression problem. We will be attempting to predict worldwide gross of a recently released\/ previously released movie which is a continuous output variable. More specifically, since we are using multiple variables to predict one continuous variable, this is a multiple linear regression problem. \n",
        "\n",
        "**Machine Learning Algorithms**\n",
        "We are going to use four regression machine learning algorithms: \n",
        "\n",
        "1.Multiple Linear Regression: linear model that utilizes residual sum of squares between the observed targets and predicted targets done by linear approximation. \n",
        "\n",
        "\n",
        "\n",
        "2.Ridge: regression model which uses linear least squares function as its loss function and I2-norm for regularization to draw regression upon a given dataset. \n",
        "\n",
        "\n",
        "3.Lasso: linear model that is trained with L1 prior as regularizer. \n",
        "\n",
        "\n",
        "4.K-Neighbors Regressor: model utilizes k-nearest neighbors logic to make predictions about a target.\n",
        "\n",
        "\n",
        "5.Support Vector Regressor Machine: model utilizes support vector classification and only depends on a subset of training data to draw predictions. \n",
        "\n",
        "We chose the above models since we wanted to use regression to solve our problem of prediction. We found the above 4 models as the major regression models as part of the scikit learn library that seemed like would fit our goal. There was no particular model we thought would be better than the other and instead wanted to test all the major regression models to observe which ones are the best for our specific data and problem. \n",
        "\n"
      ],
      "attachments":{
        
      },
      "metadata":{
        
      }
    },
    {
      "cell_type":"markdown",
      "source":[
        "# **3. RESULTS**"
      ],
      "attachments":{
        
      },
      "metadata":{
        
      }
    },
    {
      "cell_type":"markdown",
      "source":[
        "## **3.1 Data Wrangling**"
      ],
      "attachments":{
        
      },
      "metadata":{
        
      }
    },
    {
      "cell_type":"markdown",
      "source":[
        "Below, we are dropping the \"Unnamed: 0\" column which is an unnecessary column in df_budgets. \n",
        "\n",
        "We are also renaming \"Movie Name\" to \"Title\", and \"budget\" to \"Budget\".  We did this to give more descriptive names for our columns, and also to fix typos df_budgets. This also matches the column names to that of teh Box Office Mojo dataset.  "
      ],
      "attachments":{
        
      },
      "metadata":{
        
      }
    },
    {
      "cell_type":"code",
      "source":[
        "df_budgets = df_budgets.drop(columns=['Unnamed: 0'])\n",
        "df_budgets = df_budgets.rename(columns={'Movie name':'Title', 'budget':'Budget'})\n",
        "df_budgets"
      ],
      "execution_count":3,
      "outputs":[
        {
          "data":{
            "text\/html":[
              "<div>\n",
              "<style scoped>\n",
              "    .dataframe tbody tr th:only-of-type {\n",
              "        vertical-align: middle;\n",
              "    }\n",
              "\n",
              "    .dataframe tbody tr th {\n",
              "        vertical-align: top;\n",
              "    }\n",
              "\n",
              "    .dataframe thead th {\n",
              "        text-align: right;\n",
              "    }\n",
              "<\/style>\n",
              "<table border=\"1\" class=\"dataframe\">\n",
              "  <thead>\n",
              "    <tr style=\"text-align: right;\">\n",
              "      <th><\/th>\n",
              "      <th>Title<\/th>\n",
              "      <th>Budget<\/th>\n",
              "    <\/tr>\n",
              "  <\/thead>\n",
              "  <tbody>\n",
              "    <tr>\n",
              "      <th>0<\/th>\n",
              "      <td>Avengers: Endgame<\/td>\n",
              "      <td>$400,000,000<\/td>\n",
              "    <\/tr>\n",
              "    <tr>\n",
              "      <th>1<\/th>\n",
              "      <td>Pirates of the Caribbean: On Stranger Tides<\/td>\n",
              "      <td>$379,000,000<\/td>\n",
              "    <\/tr>\n",
              "    <tr>\n",
              "      <th>2<\/th>\n",
              "      <td>Avengers: Age of Ultron<\/td>\n",
              "      <td>$365,000,000<\/td>\n",
              "    <\/tr>\n",
              "    <tr>\n",
              "      <th>3<\/th>\n",
              "      <td>Star Wars Ep. VII: The Force Awakens<\/td>\n",
              "      <td>$306,000,000<\/td>\n",
              "    <\/tr>\n",
              "    <tr>\n",
              "      <th>4<\/th>\n",
              "      <td>Avengers: Infinity War<\/td>\n",
              "      <td>$300,000,000<\/td>\n",
              "    <\/tr>\n",
              "    <tr>\n",
              "      <th>...<\/th>\n",
              "      <td>...<\/td>\n",
              "      <td>...<\/td>\n",
              "    <\/tr>\n",
              "    <tr>\n",
              "      <th>6095<\/th>\n",
              "      <td>Sing<\/td>\n",
              "      <td>$84,000<\/td>\n",
              "    <\/tr>\n",
              "    <tr>\n",
              "      <th>6096<\/th>\n",
              "      <td>The Foot Fist Way<\/td>\n",
              "      <td>$79,000<\/td>\n",
              "    <\/tr>\n",
              "    <tr>\n",
              "      <th>6097<\/th>\n",
              "      <td>Dawn of the Crescent Moon<\/td>\n",
              "      <td>$75,000<\/td>\n",
              "    <\/tr>\n",
              "    <tr>\n",
              "      <th>6098<\/th>\n",
              "      <td>Queen Crab<\/td>\n",
              "      <td>$75,000<\/td>\n",
              "    <\/tr>\n",
              "    <tr>\n",
              "      <th>6099<\/th>\n",
              "      <td>Happy Christmas<\/td>\n",
              "      <td>$70,000<\/td>\n",
              "    <\/tr>\n",
              "  <\/tbody>\n",
              "<\/table>\n",
              "<p>6100 rows × 2 columns<\/p>\n",
              "<\/div>"
            ]
          },
          "metadata":{
            
          },
          "output_type":"display_data"
        }
      ],
      "metadata":{
        
      }
    },
    {
      "cell_type":"markdown",
      "source":[
        "Below, we are dropping the \"Unnamed: 0\" column which is an unnecessary column in df_first_full."
      ],
      "attachments":{
        
      },
      "metadata":{
        
      }
    },
    {
      "cell_type":"code",
      "source":[
        "df_first_full = df_first_full.drop(columns=['Unnamed: 0'])\n",
        "df_first_full"
      ],
      "execution_count":4,
      "outputs":[
        {
          "data":{
            "text\/html":[
              "<div>\n",
              "<style scoped>\n",
              "    .dataframe tbody tr th:only-of-type {\n",
              "        vertical-align: middle;\n",
              "    }\n",
              "\n",
              "    .dataframe tbody tr th {\n",
              "        vertical-align: top;\n",
              "    }\n",
              "\n",
              "    .dataframe thead th {\n",
              "        text-align: right;\n",
              "    }\n",
              "<\/style>\n",
              "<table border=\"1\" class=\"dataframe\">\n",
              "  <thead>\n",
              "    <tr style=\"text-align: right;\">\n",
              "      <th><\/th>\n",
              "      <th>Rank<\/th>\n",
              "      <th>Title<\/th>\n",
              "      <th>Worldwide<\/th>\n",
              "      <th>Domestic<\/th>\n",
              "      <th>% from Domestic<\/th>\n",
              "      <th>Foreign<\/th>\n",
              "      <th>% from Foreign<\/th>\n",
              "      <th>Release Date<\/th>\n",
              "      <th>Opening Earnings<\/th>\n",
              "      <th>Domestic Distributor<\/th>\n",
              "      <th>Running Time<\/th>\n",
              "      <th>Genres<\/th>\n",
              "      <th>MPAA<\/th>\n",
              "      <th>Budget<\/th>\n",
              "    <\/tr>\n",
              "  <\/thead>\n",
              "  <tbody>\n",
              "    <tr>\n",
              "      <th>0<\/th>\n",
              "      <td>1<\/td>\n",
              "      <td>Home Alone<\/td>\n",
              "      <td>$285,761,244<\/td>\n",
              "      <td>$285,761,243<\/td>\n",
              "      <td>100%<\/td>\n",
              "      <td>$1<\/td>\n",
              "      <td>&lt;0.1%<\/td>\n",
              "      <td>Nov 16, 1990<\/td>\n",
              "      <td>$17,081,997<\/td>\n",
              "      <td>Twentieth Century Fox<\/td>\n",
              "      <td>1 hr 43 min<\/td>\n",
              "      <td>Comedy Family<\/td>\n",
              "      <td>-<\/td>\n",
              "      <td>$18,000,000<\/td>\n",
              "    <\/tr>\n",
              "    <tr>\n",
              "      <th>1<\/th>\n",
              "      <td>2<\/td>\n",
              "      <td>Ghost<\/td>\n",
              "      <td>$217,631,306<\/td>\n",
              "      <td>$217,631,306<\/td>\n",
              "      <td>100%<\/td>\n",
              "      <td>-<\/td>\n",
              "      <td>-<\/td>\n",
              "      <td>Jul 13, 1990<\/td>\n",
              "      <td>$12,191,540<\/td>\n",
              "      <td>Paramount Pictures<\/td>\n",
              "      <td>2 hr 7 min<\/td>\n",
              "      <td>Drama Fantasy Romance Thriller<\/td>\n",
              "      <td>-<\/td>\n",
              "      <td>$22,000,000<\/td>\n",
              "    <\/tr>\n",
              "    <tr>\n",
              "      <th>2<\/th>\n",
              "      <td>3<\/td>\n",
              "      <td>Dances with Wolves<\/td>\n",
              "      <td>$184,208,848<\/td>\n",
              "      <td>$184,208,848<\/td>\n",
              "      <td>100%<\/td>\n",
              "      <td>-<\/td>\n",
              "      <td>-<\/td>\n",
              "      <td>Nov 9, 1990<\/td>\n",
              "      <td>$598,257<\/td>\n",
              "      <td>Orion Pictures<\/td>\n",
              "      <td>3 hr 1 min<\/td>\n",
              "      <td>Adventure Drama Western<\/td>\n",
              "      <td>-<\/td>\n",
              "      <td>$22,000,000<\/td>\n",
              "    <\/tr>\n",
              "    <tr>\n",
              "      <th>3<\/th>\n",
              "      <td>4<\/td>\n",
              "      <td>Pretty Woman<\/td>\n",
              "      <td>$178,406,268<\/td>\n",
              "      <td>$178,406,268<\/td>\n",
              "      <td>100%<\/td>\n",
              "      <td>-<\/td>\n",
              "      <td>-<\/td>\n",
              "      <td>Mar 23, 1990<\/td>\n",
              "      <td>$11,280,591<\/td>\n",
              "      <td>Walt Disney Studios Motion Pictures<\/td>\n",
              "      <td>1 hr 59 min<\/td>\n",
              "      <td>Comedy Romance<\/td>\n",
              "      <td>R<\/td>\n",
              "      <td>$14,000,000<\/td>\n",
              "    <\/tr>\n",
              "    <tr>\n",
              "      <th>4<\/th>\n",
              "      <td>5<\/td>\n",
              "      <td>Teenage Mutant Ninja Turtles<\/td>\n",
              "      <td>$135,265,915<\/td>\n",
              "      <td>$135,265,915<\/td>\n",
              "      <td>100%<\/td>\n",
              "      <td>-<\/td>\n",
              "      <td>-<\/td>\n",
              "      <td>Mar 30, 1990<\/td>\n",
              "      <td>$25,398,367<\/td>\n",
              "      <td>New Line Cinema<\/td>\n",
              "      <td>1 hr 33 min<\/td>\n",
              "      <td>Action Adventure Comedy Family Sci-Fi<\/td>\n",
              "      <td>-<\/td>\n",
              "      <td>$13,500,000<\/td>\n",
              "    <\/tr>\n",
              "    <tr>\n",
              "      <th>...<\/th>\n",
              "      <td>...<\/td>\n",
              "      <td>...<\/td>\n",
              "      <td>...<\/td>\n",
              "      <td>...<\/td>\n",
              "      <td>...<\/td>\n",
              "      <td>...<\/td>\n",
              "      <td>...<\/td>\n",
              "      <td>...<\/td>\n",
              "      <td>...<\/td>\n",
              "      <td>...<\/td>\n",
              "      <td>...<\/td>\n",
              "      <td>...<\/td>\n",
              "      <td>...<\/td>\n",
              "      <td>...<\/td>\n",
              "    <\/tr>\n",
              "    <tr>\n",
              "      <th>6395<\/th>\n",
              "      <td>196<\/td>\n",
              "      <td>Harry Potter and the Sorcerer's Stone 2021 Re-...<\/td>\n",
              "      <td>$5,566,768<\/td>\n",
              "      <td>-<\/td>\n",
              "      <td>-<\/td>\n",
              "      <td>$5,566,768<\/td>\n",
              "      <td>100%<\/td>\n",
              "      <td>Nov 12, 2021<\/td>\n",
              "      <td>$582,125<\/td>\n",
              "      <td>Warner Bros.<\/td>\n",
              "      <td>2 hr 32 min<\/td>\n",
              "      <td>Adventure Family Fantasy<\/td>\n",
              "      <td>PG<\/td>\n",
              "      <td>$125,000,000<\/td>\n",
              "    <\/tr>\n",
              "    <tr>\n",
              "      <th>6396<\/th>\n",
              "      <td>197<\/td>\n",
              "      <td>Miracle<\/td>\n",
              "      <td>$5,553,998<\/td>\n",
              "      <td>-<\/td>\n",
              "      <td>-<\/td>\n",
              "      <td>$5,553,998<\/td>\n",
              "      <td>100%<\/td>\n",
              "      <td>Sep 15, 2021<\/td>\n",
              "      <td>-<\/td>\n",
              "      <td>-<\/td>\n",
              "      <td>1 hr 58 min<\/td>\n",
              "      <td>Drama<\/td>\n",
              "      <td>-<\/td>\n",
              "      <td>-<\/td>\n",
              "    <\/tr>\n",
              "    <tr>\n",
              "      <th>6397<\/th>\n",
              "      <td>198<\/td>\n",
              "      <td>Octonauts: The Ring of Fire<\/td>\n",
              "      <td>$5,512,875<\/td>\n",
              "      <td>-<\/td>\n",
              "      <td>-<\/td>\n",
              "      <td>$5,512,875<\/td>\n",
              "      <td>100%<\/td>\n",
              "      <td>Apr 28, 2021<\/td>\n",
              "      <td>$73,988<\/td>\n",
              "      <td>-<\/td>\n",
              "      <td>1 hr 12 min<\/td>\n",
              "      <td>Animation<\/td>\n",
              "      <td>-<\/td>\n",
              "      <td>-<\/td>\n",
              "    <\/tr>\n",
              "    <tr>\n",
              "      <th>6398<\/th>\n",
              "      <td>199<\/td>\n",
              "      <td>Hell's Garden<\/td>\n",
              "      <td>$5,450,978<\/td>\n",
              "      <td>-<\/td>\n",
              "      <td>-<\/td>\n",
              "      <td>$5,450,978<\/td>\n",
              "      <td>100%<\/td>\n",
              "      <td>May 21, 2021<\/td>\n",
              "      <td>$1,096,206<\/td>\n",
              "      <td>-<\/td>\n",
              "      <td>1 hr 42 min<\/td>\n",
              "      <td>Action Comedy<\/td>\n",
              "      <td>-<\/td>\n",
              "      <td>-<\/td>\n",
              "    <\/tr>\n",
              "    <tr>\n",
              "      <th>6399<\/th>\n",
              "      <td>200<\/td>\n",
              "      <td>Sooryavanshi<\/td>\n",
              "      <td>$5,373,730<\/td>\n",
              "      <td>$3,547,776<\/td>\n",
              "      <td>66%<\/td>\n",
              "      <td>$1,825,954<\/td>\n",
              "      <td>34%<\/td>\n",
              "      <td>Nov 5, 2021<\/td>\n",
              "      <td>$1,443,475<\/td>\n",
              "      <td>Reliance Entertainment<\/td>\n",
              "      <td>2 hr 25 min<\/td>\n",
              "      <td>Action Crime Thriller<\/td>\n",
              "      <td>-<\/td>\n",
              "      <td>-<\/td>\n",
              "    <\/tr>\n",
              "  <\/tbody>\n",
              "<\/table>\n",
              "<p>6400 rows × 14 columns<\/p>\n",
              "<\/div>"
            ]
          },
          "metadata":{
            
          },
          "output_type":"display_data"
        }
      ],
      "metadata":{
        
      }
    },
    {
      "cell_type":"markdown",
      "source":[
        "The dataframes for df_first_full is assigned to most_malleable and df_budgets is assigned to budgets malleable. This is done so that these dataframes have more noticeable, and more representative names. This makes it easier to do data wrangling. "
      ],
      "attachments":{
        
      },
      "metadata":{
        
      }
    },
    {
      "cell_type":"code",
      "source":[
        "most_malleable = df_first_full\n",
        "budgets_malleable = df_budgets"
      ],
      "execution_count":5,
      "outputs":[
        
      ],
      "metadata":{
        
      }
    },
    {
      "cell_type":"markdown",
      "source":[
        "Here the function rr is used to replace the common movie titles in the two datasets with the same title.\n",
        "The first time the function rr is run through the main BoxOfficeMojo dataset using .map() allows it to store the names of movie titles into the dictionary saved. The second time the function **(to be finished).**"
      ],
      "attachments":{
        
      },
      "metadata":{
        
      }
    },
    {
      "cell_type":"code",
      "source":[
        "saved = {}\n",
        "def rr(x):\n",
        "    name = ''.join(filter(str.isalnum, x)).lower()\n",
        "    saved[name] = x\n",
        "    return name\n",
        "\n",
        "most_malleable['Title'] = most_malleable['Title'].map(rr)\n",
        "budgets_malleable['Title'] = budgets_malleable['Title'].map(rr)\n",
        "print(most_malleable)\n",
        "print(budgets_malleable)"
      ],
      "execution_count":6,
      "outputs":[
        {
          "name":"stdout",
          "text":[
            "      Rank                                         Title     Worldwide  \\\n",
            "0        1                                     homealone  $285,761,244   \n",
            "1        2                                         ghost  $217,631,306   \n",
            "2        3                              danceswithwolves  $184,208,848   \n",
            "3        4                                   prettywoman  $178,406,268   \n",
            "4        5                     teenagemutantninjaturtles  $135,265,915   \n",
            "...    ...                                           ...           ...   \n",
            "6395   196  harrypotterandthesorcerersstone2021rerelease    $5,566,768   \n",
            "6396   197                                       miracle    $5,553,998   \n",
            "6397   198                        octonautstheringoffire    $5,512,875   \n",
            "6398   199                                   hellsgarden    $5,450,978   \n",
            "6399   200                                  sooryavanshi    $5,373,730   \n",
            "\n",
            "          Domestic % from Domestic     Foreign % from Foreign  Release Date  \\\n",
            "0     $285,761,243            100%          $1          <0.1%  Nov 16, 1990   \n",
            "1     $217,631,306            100%           -              -  Jul 13, 1990   \n",
            "2     $184,208,848            100%           -              -   Nov 9, 1990   \n",
            "3     $178,406,268            100%           -              -  Mar 23, 1990   \n",
            "4     $135,265,915            100%           -              -  Mar 30, 1990   \n",
            "...            ...             ...         ...            ...           ...   \n",
            "6395             -               -  $5,566,768           100%  Nov 12, 2021   \n",
            "6396             -               -  $5,553,998           100%  Sep 15, 2021   \n",
            "6397             -               -  $5,512,875           100%  Apr 28, 2021   \n",
            "6398             -               -  $5,450,978           100%  May 21, 2021   \n",
            "6399    $3,547,776             66%  $1,825,954            34%   Nov 5, 2021   \n",
            "\n",
            "     Opening Earnings                 Domestic Distributor Running Time  \\\n",
            "0         $17,081,997                Twentieth Century Fox  1 hr 43 min   \n",
            "1         $12,191,540                   Paramount Pictures   2 hr 7 min   \n",
            "2            $598,257                       Orion Pictures   3 hr 1 min   \n",
            "3         $11,280,591  Walt Disney Studios Motion Pictures  1 hr 59 min   \n",
            "4         $25,398,367                      New Line Cinema  1 hr 33 min   \n",
            "...               ...                                  ...          ...   \n",
            "6395         $582,125                         Warner Bros.  2 hr 32 min   \n",
            "6396                -                                    -  1 hr 58 min   \n",
            "6397          $73,988                                    -  1 hr 12 min   \n",
            "6398       $1,096,206                                    -  1 hr 42 min   \n",
            "6399       $1,443,475               Reliance Entertainment  2 hr 25 min   \n",
            "\n",
            "                                     Genres MPAA        Budget  \n",
            "0                             Comedy Family    -   $18,000,000  \n",
            "1            Drama Fantasy Romance Thriller    -   $22,000,000  \n",
            "2                   Adventure Drama Western    -   $22,000,000  \n",
            "3                            Comedy Romance    R   $14,000,000  \n",
            "4     Action Adventure Comedy Family Sci-Fi    -   $13,500,000  \n",
            "...                                     ...  ...           ...  \n",
            "6395               Adventure Family Fantasy   PG  $125,000,000  \n",
            "6396                                  Drama    -             -  \n",
            "6397                              Animation    -             -  \n",
            "6398                          Action Comedy    -             -  \n",
            "6399                  Action Crime Thriller    -             -  \n",
            "\n",
            "[6400 rows x 14 columns]\n",
            "                                     Title        Budget\n",
            "0                          avengersendgame  $400,000,000\n",
            "1     piratesofthecaribbeanonstrangertides  $379,000,000\n",
            "2                      avengersageofultron  $365,000,000\n",
            "3             starwarsepviitheforceawakens  $306,000,000\n",
            "4                      avengersinfinitywar  $300,000,000\n",
            "...                                    ...           ...\n",
            "6095                                  sing       $84,000\n",
            "6096                        thefootfistway       $79,000\n",
            "6097                 dawnofthecrescentmoon       $75,000\n",
            "6098                             queencrab       $75,000\n",
            "6099                        happychristmas       $70,000\n",
            "\n",
            "[6100 rows x 2 columns]\n"
          ],
          "output_type":"stream"
        }
      ],
      "metadata":{
        
      }
    },
    {
      "cell_type":"markdown",
      "source":[
        "Here the two dataframes most_malleable, and budgets_malleable are merged on the column Title with a left join. This allows all common titles to have the budgets from the numbers dataset to be added to the box office mojo's dataset. Doing this enables us to join the two dataframes together so that the dataframe then contains both the Box Office Mojo data and the budget data. "
      ],
      "attachments":{
        
      },
      "metadata":{
        
      }
    },
    {
      "cell_type":"code",
      "source":[
        "sample_true = pd.merge(most_malleable, budgets_malleable, on='Title', how='left')\n",
        "sample_true"
      ],
      "execution_count":7,
      "outputs":[
        {
          "data":{
            "text\/html":[
              "<div>\n",
              "<style scoped>\n",
              "    .dataframe tbody tr th:only-of-type {\n",
              "        vertical-align: middle;\n",
              "    }\n",
              "\n",
              "    .dataframe tbody tr th {\n",
              "        vertical-align: top;\n",
              "    }\n",
              "\n",
              "    .dataframe thead th {\n",
              "        text-align: right;\n",
              "    }\n",
              "<\/style>\n",
              "<table border=\"1\" class=\"dataframe\">\n",
              "  <thead>\n",
              "    <tr style=\"text-align: right;\">\n",
              "      <th><\/th>\n",
              "      <th>Rank<\/th>\n",
              "      <th>Title<\/th>\n",
              "      <th>Worldwide<\/th>\n",
              "      <th>Domestic<\/th>\n",
              "      <th>% from Domestic<\/th>\n",
              "      <th>Foreign<\/th>\n",
              "      <th>% from Foreign<\/th>\n",
              "      <th>Release Date<\/th>\n",
              "      <th>Opening Earnings<\/th>\n",
              "      <th>Domestic Distributor<\/th>\n",
              "      <th>Running Time<\/th>\n",
              "      <th>Genres<\/th>\n",
              "      <th>MPAA<\/th>\n",
              "      <th>Budget_x<\/th>\n",
              "      <th>Budget_y<\/th>\n",
              "    <\/tr>\n",
              "  <\/thead>\n",
              "  <tbody>\n",
              "    <tr>\n",
              "      <th>0<\/th>\n",
              "      <td>1<\/td>\n",
              "      <td>homealone<\/td>\n",
              "      <td>$285,761,244<\/td>\n",
              "      <td>$285,761,243<\/td>\n",
              "      <td>100%<\/td>\n",
              "      <td>$1<\/td>\n",
              "      <td>&lt;0.1%<\/td>\n",
              "      <td>Nov 16, 1990<\/td>\n",
              "      <td>$17,081,997<\/td>\n",
              "      <td>Twentieth Century Fox<\/td>\n",
              "      <td>1 hr 43 min<\/td>\n",
              "      <td>Comedy Family<\/td>\n",
              "      <td>-<\/td>\n",
              "      <td>$18,000,000<\/td>\n",
              "      <td>$15,000,000<\/td>\n",
              "    <\/tr>\n",
              "    <tr>\n",
              "      <th>1<\/th>\n",
              "      <td>2<\/td>\n",
              "      <td>ghost<\/td>\n",
              "      <td>$217,631,306<\/td>\n",
              "      <td>$217,631,306<\/td>\n",
              "      <td>100%<\/td>\n",
              "      <td>-<\/td>\n",
              "      <td>-<\/td>\n",
              "      <td>Jul 13, 1990<\/td>\n",
              "      <td>$12,191,540<\/td>\n",
              "      <td>Paramount Pictures<\/td>\n",
              "      <td>2 hr 7 min<\/td>\n",
              "      <td>Drama Fantasy Romance Thriller<\/td>\n",
              "      <td>-<\/td>\n",
              "      <td>$22,000,000<\/td>\n",
              "      <td>$22,000,000<\/td>\n",
              "    <\/tr>\n",
              "    <tr>\n",
              "      <th>2<\/th>\n",
              "      <td>3<\/td>\n",
              "      <td>danceswithwolves<\/td>\n",
              "      <td>$184,208,848<\/td>\n",
              "      <td>$184,208,848<\/td>\n",
              "      <td>100%<\/td>\n",
              "      <td>-<\/td>\n",
              "      <td>-<\/td>\n",
              "      <td>Nov 9, 1990<\/td>\n",
              "      <td>$598,257<\/td>\n",
              "      <td>Orion Pictures<\/td>\n",
              "      <td>3 hr 1 min<\/td>\n",
              "      <td>Adventure Drama Western<\/td>\n",
              "      <td>-<\/td>\n",
              "      <td>$22,000,000<\/td>\n",
              "      <td>$19,000,000<\/td>\n",
              "    <\/tr>\n",
              "    <tr>\n",
              "      <th>3<\/th>\n",
              "      <td>4<\/td>\n",
              "      <td>prettywoman<\/td>\n",
              "      <td>$178,406,268<\/td>\n",
              "      <td>$178,406,268<\/td>\n",
              "      <td>100%<\/td>\n",
              "      <td>-<\/td>\n",
              "      <td>-<\/td>\n",
              "      <td>Mar 23, 1990<\/td>\n",
              "      <td>$11,280,591<\/td>\n",
              "      <td>Walt Disney Studios Motion Pictures<\/td>\n",
              "      <td>1 hr 59 min<\/td>\n",
              "      <td>Comedy Romance<\/td>\n",
              "      <td>R<\/td>\n",
              "      <td>$14,000,000<\/td>\n",
              "      <td>$14,000,000<\/td>\n",
              "    <\/tr>\n",
              "    <tr>\n",
              "      <th>4<\/th>\n",
              "      <td>5<\/td>\n",
              "      <td>teenagemutantninjaturtles<\/td>\n",
              "      <td>$135,265,915<\/td>\n",
              "      <td>$135,265,915<\/td>\n",
              "      <td>100%<\/td>\n",
              "      <td>-<\/td>\n",
              "      <td>-<\/td>\n",
              "      <td>Mar 30, 1990<\/td>\n",
              "      <td>$25,398,367<\/td>\n",
              "      <td>New Line Cinema<\/td>\n",
              "      <td>1 hr 33 min<\/td>\n",
              "      <td>Action Adventure Comedy Family Sci-Fi<\/td>\n",
              "      <td>-<\/td>\n",
              "      <td>$13,500,000<\/td>\n",
              "      <td>$125,000,000<\/td>\n",
              "    <\/tr>\n",
              "    <tr>\n",
              "      <th>...<\/th>\n",
              "      <td>...<\/td>\n",
              "      <td>...<\/td>\n",
              "      <td>...<\/td>\n",
              "      <td>...<\/td>\n",
              "      <td>...<\/td>\n",
              "      <td>...<\/td>\n",
              "      <td>...<\/td>\n",
              "      <td>...<\/td>\n",
              "      <td>...<\/td>\n",
              "      <td>...<\/td>\n",
              "      <td>...<\/td>\n",
              "      <td>...<\/td>\n",
              "      <td>...<\/td>\n",
              "      <td>...<\/td>\n",
              "      <td>...<\/td>\n",
              "    <\/tr>\n",
              "    <tr>\n",
              "      <th>6514<\/th>\n",
              "      <td>196<\/td>\n",
              "      <td>harrypotterandthesorcerersstone2021rerelease<\/td>\n",
              "      <td>$5,566,768<\/td>\n",
              "      <td>-<\/td>\n",
              "      <td>-<\/td>\n",
              "      <td>$5,566,768<\/td>\n",
              "      <td>100%<\/td>\n",
              "      <td>Nov 12, 2021<\/td>\n",
              "      <td>$582,125<\/td>\n",
              "      <td>Warner Bros.<\/td>\n",
              "      <td>2 hr 32 min<\/td>\n",
              "      <td>Adventure Family Fantasy<\/td>\n",
              "      <td>PG<\/td>\n",
              "      <td>$125,000,000<\/td>\n",
              "      <td>NaN<\/td>\n",
              "    <\/tr>\n",
              "    <tr>\n",
              "      <th>6515<\/th>\n",
              "      <td>197<\/td>\n",
              "      <td>miracle<\/td>\n",
              "      <td>$5,553,998<\/td>\n",
              "      <td>-<\/td>\n",
              "      <td>-<\/td>\n",
              "      <td>$5,553,998<\/td>\n",
              "      <td>100%<\/td>\n",
              "      <td>Sep 15, 2021<\/td>\n",
              "      <td>-<\/td>\n",
              "      <td>-<\/td>\n",
              "      <td>1 hr 58 min<\/td>\n",
              "      <td>Drama<\/td>\n",
              "      <td>-<\/td>\n",
              "      <td>-<\/td>\n",
              "      <td>$28,000,000<\/td>\n",
              "    <\/tr>\n",
              "    <tr>\n",
              "      <th>6516<\/th>\n",
              "      <td>198<\/td>\n",
              "      <td>octonautstheringoffire<\/td>\n",
              "      <td>$5,512,875<\/td>\n",
              "      <td>-<\/td>\n",
              "      <td>-<\/td>\n",
              "      <td>$5,512,875<\/td>\n",
              "      <td>100%<\/td>\n",
              "      <td>Apr 28, 2021<\/td>\n",
              "      <td>$73,988<\/td>\n",
              "      <td>-<\/td>\n",
              "      <td>1 hr 12 min<\/td>\n",
              "      <td>Animation<\/td>\n",
              "      <td>-<\/td>\n",
              "      <td>-<\/td>\n",
              "      <td>NaN<\/td>\n",
              "    <\/tr>\n",
              "    <tr>\n",
              "      <th>6517<\/th>\n",
              "      <td>199<\/td>\n",
              "      <td>hellsgarden<\/td>\n",
              "      <td>$5,450,978<\/td>\n",
              "      <td>-<\/td>\n",
              "      <td>-<\/td>\n",
              "      <td>$5,450,978<\/td>\n",
              "      <td>100%<\/td>\n",
              "      <td>May 21, 2021<\/td>\n",
              "      <td>$1,096,206<\/td>\n",
              "      <td>-<\/td>\n",
              "      <td>1 hr 42 min<\/td>\n",
              "      <td>Action Comedy<\/td>\n",
              "      <td>-<\/td>\n",
              "      <td>-<\/td>\n",
              "      <td>NaN<\/td>\n",
              "    <\/tr>\n",
              "    <tr>\n",
              "      <th>6518<\/th>\n",
              "      <td>200<\/td>\n",
              "      <td>sooryavanshi<\/td>\n",
              "      <td>$5,373,730<\/td>\n",
              "      <td>$3,547,776<\/td>\n",
              "      <td>66%<\/td>\n",
              "      <td>$1,825,954<\/td>\n",
              "      <td>34%<\/td>\n",
              "      <td>Nov 5, 2021<\/td>\n",
              "      <td>$1,443,475<\/td>\n",
              "      <td>Reliance Entertainment<\/td>\n",
              "      <td>2 hr 25 min<\/td>\n",
              "      <td>Action Crime Thriller<\/td>\n",
              "      <td>-<\/td>\n",
              "      <td>-<\/td>\n",
              "      <td>NaN<\/td>\n",
              "    <\/tr>\n",
              "  <\/tbody>\n",
              "<\/table>\n",
              "<p>6519 rows × 15 columns<\/p>\n",
              "<\/div>"
            ]
          },
          "metadata":{
            
          },
          "output_type":"display_data"
        }
      ],
      "metadata":{
        
      }
    },
    {
      "cell_type":"markdown",
      "source":[
        "Replace pandas NaN with python's None. This makes it easier to work with null values in the dataframe. "
      ],
      "attachments":{
        
      },
      "metadata":{
        
      }
    },
    {
      "cell_type":"code",
      "source":[
        "sample_true = sample_true.where(pd.notnull(sample_true), None)\n",
        "sample_true"
      ],
      "execution_count":8,
      "outputs":[
        {
          "data":{
            "text\/html":[
              "<div>\n",
              "<style scoped>\n",
              "    .dataframe tbody tr th:only-of-type {\n",
              "        vertical-align: middle;\n",
              "    }\n",
              "\n",
              "    .dataframe tbody tr th {\n",
              "        vertical-align: top;\n",
              "    }\n",
              "\n",
              "    .dataframe thead th {\n",
              "        text-align: right;\n",
              "    }\n",
              "<\/style>\n",
              "<table border=\"1\" class=\"dataframe\">\n",
              "  <thead>\n",
              "    <tr style=\"text-align: right;\">\n",
              "      <th><\/th>\n",
              "      <th>Rank<\/th>\n",
              "      <th>Title<\/th>\n",
              "      <th>Worldwide<\/th>\n",
              "      <th>Domestic<\/th>\n",
              "      <th>% from Domestic<\/th>\n",
              "      <th>Foreign<\/th>\n",
              "      <th>% from Foreign<\/th>\n",
              "      <th>Release Date<\/th>\n",
              "      <th>Opening Earnings<\/th>\n",
              "      <th>Domestic Distributor<\/th>\n",
              "      <th>Running Time<\/th>\n",
              "      <th>Genres<\/th>\n",
              "      <th>MPAA<\/th>\n",
              "      <th>Budget_x<\/th>\n",
              "      <th>Budget_y<\/th>\n",
              "    <\/tr>\n",
              "  <\/thead>\n",
              "  <tbody>\n",
              "    <tr>\n",
              "      <th>0<\/th>\n",
              "      <td>1<\/td>\n",
              "      <td>homealone<\/td>\n",
              "      <td>$285,761,244<\/td>\n",
              "      <td>$285,761,243<\/td>\n",
              "      <td>100%<\/td>\n",
              "      <td>$1<\/td>\n",
              "      <td>&lt;0.1%<\/td>\n",
              "      <td>Nov 16, 1990<\/td>\n",
              "      <td>$17,081,997<\/td>\n",
              "      <td>Twentieth Century Fox<\/td>\n",
              "      <td>1 hr 43 min<\/td>\n",
              "      <td>Comedy Family<\/td>\n",
              "      <td>-<\/td>\n",
              "      <td>$18,000,000<\/td>\n",
              "      <td>$15,000,000<\/td>\n",
              "    <\/tr>\n",
              "    <tr>\n",
              "      <th>1<\/th>\n",
              "      <td>2<\/td>\n",
              "      <td>ghost<\/td>\n",
              "      <td>$217,631,306<\/td>\n",
              "      <td>$217,631,306<\/td>\n",
              "      <td>100%<\/td>\n",
              "      <td>-<\/td>\n",
              "      <td>-<\/td>\n",
              "      <td>Jul 13, 1990<\/td>\n",
              "      <td>$12,191,540<\/td>\n",
              "      <td>Paramount Pictures<\/td>\n",
              "      <td>2 hr 7 min<\/td>\n",
              "      <td>Drama Fantasy Romance Thriller<\/td>\n",
              "      <td>-<\/td>\n",
              "      <td>$22,000,000<\/td>\n",
              "      <td>$22,000,000<\/td>\n",
              "    <\/tr>\n",
              "    <tr>\n",
              "      <th>2<\/th>\n",
              "      <td>3<\/td>\n",
              "      <td>danceswithwolves<\/td>\n",
              "      <td>$184,208,848<\/td>\n",
              "      <td>$184,208,848<\/td>\n",
              "      <td>100%<\/td>\n",
              "      <td>-<\/td>\n",
              "      <td>-<\/td>\n",
              "      <td>Nov 9, 1990<\/td>\n",
              "      <td>$598,257<\/td>\n",
              "      <td>Orion Pictures<\/td>\n",
              "      <td>3 hr 1 min<\/td>\n",
              "      <td>Adventure Drama Western<\/td>\n",
              "      <td>-<\/td>\n",
              "      <td>$22,000,000<\/td>\n",
              "      <td>$19,000,000<\/td>\n",
              "    <\/tr>\n",
              "    <tr>\n",
              "      <th>3<\/th>\n",
              "      <td>4<\/td>\n",
              "      <td>prettywoman<\/td>\n",
              "      <td>$178,406,268<\/td>\n",
              "      <td>$178,406,268<\/td>\n",
              "      <td>100%<\/td>\n",
              "      <td>-<\/td>\n",
              "      <td>-<\/td>\n",
              "      <td>Mar 23, 1990<\/td>\n",
              "      <td>$11,280,591<\/td>\n",
              "      <td>Walt Disney Studios Motion Pictures<\/td>\n",
              "      <td>1 hr 59 min<\/td>\n",
              "      <td>Comedy Romance<\/td>\n",
              "      <td>R<\/td>\n",
              "      <td>$14,000,000<\/td>\n",
              "      <td>$14,000,000<\/td>\n",
              "    <\/tr>\n",
              "    <tr>\n",
              "      <th>4<\/th>\n",
              "      <td>5<\/td>\n",
              "      <td>teenagemutantninjaturtles<\/td>\n",
              "      <td>$135,265,915<\/td>\n",
              "      <td>$135,265,915<\/td>\n",
              "      <td>100%<\/td>\n",
              "      <td>-<\/td>\n",
              "      <td>-<\/td>\n",
              "      <td>Mar 30, 1990<\/td>\n",
              "      <td>$25,398,367<\/td>\n",
              "      <td>New Line Cinema<\/td>\n",
              "      <td>1 hr 33 min<\/td>\n",
              "      <td>Action Adventure Comedy Family Sci-Fi<\/td>\n",
              "      <td>-<\/td>\n",
              "      <td>$13,500,000<\/td>\n",
              "      <td>$125,000,000<\/td>\n",
              "    <\/tr>\n",
              "    <tr>\n",
              "      <th>...<\/th>\n",
              "      <td>...<\/td>\n",
              "      <td>...<\/td>\n",
              "      <td>...<\/td>\n",
              "      <td>...<\/td>\n",
              "      <td>...<\/td>\n",
              "      <td>...<\/td>\n",
              "      <td>...<\/td>\n",
              "      <td>...<\/td>\n",
              "      <td>...<\/td>\n",
              "      <td>...<\/td>\n",
              "      <td>...<\/td>\n",
              "      <td>...<\/td>\n",
              "      <td>...<\/td>\n",
              "      <td>...<\/td>\n",
              "      <td>...<\/td>\n",
              "    <\/tr>\n",
              "    <tr>\n",
              "      <th>6514<\/th>\n",
              "      <td>196<\/td>\n",
              "      <td>harrypotterandthesorcerersstone2021rerelease<\/td>\n",
              "      <td>$5,566,768<\/td>\n",
              "      <td>-<\/td>\n",
              "      <td>-<\/td>\n",
              "      <td>$5,566,768<\/td>\n",
              "      <td>100%<\/td>\n",
              "      <td>Nov 12, 2021<\/td>\n",
              "      <td>$582,125<\/td>\n",
              "      <td>Warner Bros.<\/td>\n",
              "      <td>2 hr 32 min<\/td>\n",
              "      <td>Adventure Family Fantasy<\/td>\n",
              "      <td>PG<\/td>\n",
              "      <td>$125,000,000<\/td>\n",
              "      <td>None<\/td>\n",
              "    <\/tr>\n",
              "    <tr>\n",
              "      <th>6515<\/th>\n",
              "      <td>197<\/td>\n",
              "      <td>miracle<\/td>\n",
              "      <td>$5,553,998<\/td>\n",
              "      <td>-<\/td>\n",
              "      <td>-<\/td>\n",
              "      <td>$5,553,998<\/td>\n",
              "      <td>100%<\/td>\n",
              "      <td>Sep 15, 2021<\/td>\n",
              "      <td>-<\/td>\n",
              "      <td>-<\/td>\n",
              "      <td>1 hr 58 min<\/td>\n",
              "      <td>Drama<\/td>\n",
              "      <td>-<\/td>\n",
              "      <td>-<\/td>\n",
              "      <td>$28,000,000<\/td>\n",
              "    <\/tr>\n",
              "    <tr>\n",
              "      <th>6516<\/th>\n",
              "      <td>198<\/td>\n",
              "      <td>octonautstheringoffire<\/td>\n",
              "      <td>$5,512,875<\/td>\n",
              "      <td>-<\/td>\n",
              "      <td>-<\/td>\n",
              "      <td>$5,512,875<\/td>\n",
              "      <td>100%<\/td>\n",
              "      <td>Apr 28, 2021<\/td>\n",
              "      <td>$73,988<\/td>\n",
              "      <td>-<\/td>\n",
              "      <td>1 hr 12 min<\/td>\n",
              "      <td>Animation<\/td>\n",
              "      <td>-<\/td>\n",
              "      <td>-<\/td>\n",
              "      <td>None<\/td>\n",
              "    <\/tr>\n",
              "    <tr>\n",
              "      <th>6517<\/th>\n",
              "      <td>199<\/td>\n",
              "      <td>hellsgarden<\/td>\n",
              "      <td>$5,450,978<\/td>\n",
              "      <td>-<\/td>\n",
              "      <td>-<\/td>\n",
              "      <td>$5,450,978<\/td>\n",
              "      <td>100%<\/td>\n",
              "      <td>May 21, 2021<\/td>\n",
              "      <td>$1,096,206<\/td>\n",
              "      <td>-<\/td>\n",
              "      <td>1 hr 42 min<\/td>\n",
              "      <td>Action Comedy<\/td>\n",
              "      <td>-<\/td>\n",
              "      <td>-<\/td>\n",
              "      <td>None<\/td>\n",
              "    <\/tr>\n",
              "    <tr>\n",
              "      <th>6518<\/th>\n",
              "      <td>200<\/td>\n",
              "      <td>sooryavanshi<\/td>\n",
              "      <td>$5,373,730<\/td>\n",
              "      <td>$3,547,776<\/td>\n",
              "      <td>66%<\/td>\n",
              "      <td>$1,825,954<\/td>\n",
              "      <td>34%<\/td>\n",
              "      <td>Nov 5, 2021<\/td>\n",
              "      <td>$1,443,475<\/td>\n",
              "      <td>Reliance Entertainment<\/td>\n",
              "      <td>2 hr 25 min<\/td>\n",
              "      <td>Action Crime Thriller<\/td>\n",
              "      <td>-<\/td>\n",
              "      <td>-<\/td>\n",
              "      <td>None<\/td>\n",
              "    <\/tr>\n",
              "  <\/tbody>\n",
              "<\/table>\n",
              "<p>6519 rows × 15 columns<\/p>\n",
              "<\/div>"
            ]
          },
          "metadata":{
            
          },
          "output_type":"display_data"
        }
      ],
      "metadata":{
        
      }
    },
    {
      "cell_type":"markdown",
      "source":[
        "The below cell is used to get one budget from the two budget columns. Budget_x is from BoxOfficeMojo whilst Budget_y is from The Numbers. We go through a zipped list of Budget_x and Budget_y and is y is not None we append the item in Budget_y to the list budgets. If y is None and x is not equals to \"-\" we append the Budget from Budget_X. Else if neither of those have a budget the None from Budget_Y is added. The columns for Budget_x and Budget_y are dropped from the combined dataframe. A new column \"Budget\" is created for sample_true with the list budgets. The reason we do this is to merge the budget from the BoxOfficeMojo dataset and The Numbers dataset. Precedence is given to the budget from the Numbers dataset."
      ],
      "attachments":{
        
      },
      "metadata":{
        
      }
    },
    {
      "cell_type":"code",
      "source":[
        "budgets = []\n",
        "for x, y in zip(sample_true['Budget_x'],sample_true['Budget_y']):\n",
        "    if y is not None:\n",
        "        budgets.append(y)\n",
        "    elif y is None and x != \"-\":\n",
        "        budgets.append(x)\n",
        "    else:\n",
        "        budgets.append(y)\n",
        "sample_true = sample_true.drop(columns=['Budget_x','Budget_y'])\n",
        "sample_true['Budget'] = budgets\n",
        "sample_true"
      ],
      "execution_count":9,
      "outputs":[
        {
          "data":{
            "text\/html":[
              "<div>\n",
              "<style scoped>\n",
              "    .dataframe tbody tr th:only-of-type {\n",
              "        vertical-align: middle;\n",
              "    }\n",
              "\n",
              "    .dataframe tbody tr th {\n",
              "        vertical-align: top;\n",
              "    }\n",
              "\n",
              "    .dataframe thead th {\n",
              "        text-align: right;\n",
              "    }\n",
              "<\/style>\n",
              "<table border=\"1\" class=\"dataframe\">\n",
              "  <thead>\n",
              "    <tr style=\"text-align: right;\">\n",
              "      <th><\/th>\n",
              "      <th>Rank<\/th>\n",
              "      <th>Title<\/th>\n",
              "      <th>Worldwide<\/th>\n",
              "      <th>Domestic<\/th>\n",
              "      <th>% from Domestic<\/th>\n",
              "      <th>Foreign<\/th>\n",
              "      <th>% from Foreign<\/th>\n",
              "      <th>Release Date<\/th>\n",
              "      <th>Opening Earnings<\/th>\n",
              "      <th>Domestic Distributor<\/th>\n",
              "      <th>Running Time<\/th>\n",
              "      <th>Genres<\/th>\n",
              "      <th>MPAA<\/th>\n",
              "      <th>Budget<\/th>\n",
              "    <\/tr>\n",
              "  <\/thead>\n",
              "  <tbody>\n",
              "    <tr>\n",
              "      <th>0<\/th>\n",
              "      <td>1<\/td>\n",
              "      <td>homealone<\/td>\n",
              "      <td>$285,761,244<\/td>\n",
              "      <td>$285,761,243<\/td>\n",
              "      <td>100%<\/td>\n",
              "      <td>$1<\/td>\n",
              "      <td>&lt;0.1%<\/td>\n",
              "      <td>Nov 16, 1990<\/td>\n",
              "      <td>$17,081,997<\/td>\n",
              "      <td>Twentieth Century Fox<\/td>\n",
              "      <td>1 hr 43 min<\/td>\n",
              "      <td>Comedy Family<\/td>\n",
              "      <td>-<\/td>\n",
              "      <td>$15,000,000<\/td>\n",
              "    <\/tr>\n",
              "    <tr>\n",
              "      <th>1<\/th>\n",
              "      <td>2<\/td>\n",
              "      <td>ghost<\/td>\n",
              "      <td>$217,631,306<\/td>\n",
              "      <td>$217,631,306<\/td>\n",
              "      <td>100%<\/td>\n",
              "      <td>-<\/td>\n",
              "      <td>-<\/td>\n",
              "      <td>Jul 13, 1990<\/td>\n",
              "      <td>$12,191,540<\/td>\n",
              "      <td>Paramount Pictures<\/td>\n",
              "      <td>2 hr 7 min<\/td>\n",
              "      <td>Drama Fantasy Romance Thriller<\/td>\n",
              "      <td>-<\/td>\n",
              "      <td>$22,000,000<\/td>\n",
              "    <\/tr>\n",
              "    <tr>\n",
              "      <th>2<\/th>\n",
              "      <td>3<\/td>\n",
              "      <td>danceswithwolves<\/td>\n",
              "      <td>$184,208,848<\/td>\n",
              "      <td>$184,208,848<\/td>\n",
              "      <td>100%<\/td>\n",
              "      <td>-<\/td>\n",
              "      <td>-<\/td>\n",
              "      <td>Nov 9, 1990<\/td>\n",
              "      <td>$598,257<\/td>\n",
              "      <td>Orion Pictures<\/td>\n",
              "      <td>3 hr 1 min<\/td>\n",
              "      <td>Adventure Drama Western<\/td>\n",
              "      <td>-<\/td>\n",
              "      <td>$19,000,000<\/td>\n",
              "    <\/tr>\n",
              "    <tr>\n",
              "      <th>3<\/th>\n",
              "      <td>4<\/td>\n",
              "      <td>prettywoman<\/td>\n",
              "      <td>$178,406,268<\/td>\n",
              "      <td>$178,406,268<\/td>\n",
              "      <td>100%<\/td>\n",
              "      <td>-<\/td>\n",
              "      <td>-<\/td>\n",
              "      <td>Mar 23, 1990<\/td>\n",
              "      <td>$11,280,591<\/td>\n",
              "      <td>Walt Disney Studios Motion Pictures<\/td>\n",
              "      <td>1 hr 59 min<\/td>\n",
              "      <td>Comedy Romance<\/td>\n",
              "      <td>R<\/td>\n",
              "      <td>$14,000,000<\/td>\n",
              "    <\/tr>\n",
              "    <tr>\n",
              "      <th>4<\/th>\n",
              "      <td>5<\/td>\n",
              "      <td>teenagemutantninjaturtles<\/td>\n",
              "      <td>$135,265,915<\/td>\n",
              "      <td>$135,265,915<\/td>\n",
              "      <td>100%<\/td>\n",
              "      <td>-<\/td>\n",
              "      <td>-<\/td>\n",
              "      <td>Mar 30, 1990<\/td>\n",
              "      <td>$25,398,367<\/td>\n",
              "      <td>New Line Cinema<\/td>\n",
              "      <td>1 hr 33 min<\/td>\n",
              "      <td>Action Adventure Comedy Family Sci-Fi<\/td>\n",
              "      <td>-<\/td>\n",
              "      <td>$125,000,000<\/td>\n",
              "    <\/tr>\n",
              "    <tr>\n",
              "      <th>...<\/th>\n",
              "      <td>...<\/td>\n",
              "      <td>...<\/td>\n",
              "      <td>...<\/td>\n",
              "      <td>...<\/td>\n",
              "      <td>...<\/td>\n",
              "      <td>...<\/td>\n",
              "      <td>...<\/td>\n",
              "      <td>...<\/td>\n",
              "      <td>...<\/td>\n",
              "      <td>...<\/td>\n",
              "      <td>...<\/td>\n",
              "      <td>...<\/td>\n",
              "      <td>...<\/td>\n",
              "      <td>...<\/td>\n",
              "    <\/tr>\n",
              "    <tr>\n",
              "      <th>6514<\/th>\n",
              "      <td>196<\/td>\n",
              "      <td>harrypotterandthesorcerersstone2021rerelease<\/td>\n",
              "      <td>$5,566,768<\/td>\n",
              "      <td>-<\/td>\n",
              "      <td>-<\/td>\n",
              "      <td>$5,566,768<\/td>\n",
              "      <td>100%<\/td>\n",
              "      <td>Nov 12, 2021<\/td>\n",
              "      <td>$582,125<\/td>\n",
              "      <td>Warner Bros.<\/td>\n",
              "      <td>2 hr 32 min<\/td>\n",
              "      <td>Adventure Family Fantasy<\/td>\n",
              "      <td>PG<\/td>\n",
              "      <td>$125,000,000<\/td>\n",
              "    <\/tr>\n",
              "    <tr>\n",
              "      <th>6515<\/th>\n",
              "      <td>197<\/td>\n",
              "      <td>miracle<\/td>\n",
              "      <td>$5,553,998<\/td>\n",
              "      <td>-<\/td>\n",
              "      <td>-<\/td>\n",
              "      <td>$5,553,998<\/td>\n",
              "      <td>100%<\/td>\n",
              "      <td>Sep 15, 2021<\/td>\n",
              "      <td>-<\/td>\n",
              "      <td>-<\/td>\n",
              "      <td>1 hr 58 min<\/td>\n",
              "      <td>Drama<\/td>\n",
              "      <td>-<\/td>\n",
              "      <td>$28,000,000<\/td>\n",
              "    <\/tr>\n",
              "    <tr>\n",
              "      <th>6516<\/th>\n",
              "      <td>198<\/td>\n",
              "      <td>octonautstheringoffire<\/td>\n",
              "      <td>$5,512,875<\/td>\n",
              "      <td>-<\/td>\n",
              "      <td>-<\/td>\n",
              "      <td>$5,512,875<\/td>\n",
              "      <td>100%<\/td>\n",
              "      <td>Apr 28, 2021<\/td>\n",
              "      <td>$73,988<\/td>\n",
              "      <td>-<\/td>\n",
              "      <td>1 hr 12 min<\/td>\n",
              "      <td>Animation<\/td>\n",
              "      <td>-<\/td>\n",
              "      <td>None<\/td>\n",
              "    <\/tr>\n",
              "    <tr>\n",
              "      <th>6517<\/th>\n",
              "      <td>199<\/td>\n",
              "      <td>hellsgarden<\/td>\n",
              "      <td>$5,450,978<\/td>\n",
              "      <td>-<\/td>\n",
              "      <td>-<\/td>\n",
              "      <td>$5,450,978<\/td>\n",
              "      <td>100%<\/td>\n",
              "      <td>May 21, 2021<\/td>\n",
              "      <td>$1,096,206<\/td>\n",
              "      <td>-<\/td>\n",
              "      <td>1 hr 42 min<\/td>\n",
              "      <td>Action Comedy<\/td>\n",
              "      <td>-<\/td>\n",
              "      <td>None<\/td>\n",
              "    <\/tr>\n",
              "    <tr>\n",
              "      <th>6518<\/th>\n",
              "      <td>200<\/td>\n",
              "      <td>sooryavanshi<\/td>\n",
              "      <td>$5,373,730<\/td>\n",
              "      <td>$3,547,776<\/td>\n",
              "      <td>66%<\/td>\n",
              "      <td>$1,825,954<\/td>\n",
              "      <td>34%<\/td>\n",
              "      <td>Nov 5, 2021<\/td>\n",
              "      <td>$1,443,475<\/td>\n",
              "      <td>Reliance Entertainment<\/td>\n",
              "      <td>2 hr 25 min<\/td>\n",
              "      <td>Action Crime Thriller<\/td>\n",
              "      <td>-<\/td>\n",
              "      <td>None<\/td>\n",
              "    <\/tr>\n",
              "  <\/tbody>\n",
              "<\/table>\n",
              "<p>6519 rows × 14 columns<\/p>\n",
              "<\/div>"
            ]
          },
          "metadata":{
            
          },
          "output_type":"display_data"
        }
      ],
      "metadata":{
        
      }
    },
    {
      "cell_type":"markdown",
      "source":[
        "The below cell drops all rows where \"Release Date\", \"Opening Earnings\", \"Domestic Distributor\", \"Running Time\", \"Genres\" are \"-\". It also drops all null values. The reason we did this was to get rid of rows with null values or \"-\" (which are placeholder values)."
      ],
      "attachments":{
        
      },
      "metadata":{
        
      }
    },
    {
      "cell_type":"code",
      "source":[
        "sample_true = sample_true[sample_true['Release Date'] != \"-\"]\n",
        "sample_true = sample_true[sample_true['Opening Earnings'] != \"-\"]\n",
        "sample_true = sample_true[sample_true[\"Domestic Distributor\"] != \"-\"]\n",
        "sample_true = sample_true[sample_true[\"Running Time\"] != \"-\"]\n",
        "sample_true = sample_true[sample_true[\"Genres\"] != \"-\"]\n",
        "sample_true = sample_true.dropna()\n",
        "sample_true"
      ],
      "execution_count":10,
      "outputs":[
        {
          "data":{
            "text\/html":[
              "<div>\n",
              "<style scoped>\n",
              "    .dataframe tbody tr th:only-of-type {\n",
              "        vertical-align: middle;\n",
              "    }\n",
              "\n",
              "    .dataframe tbody tr th {\n",
              "        vertical-align: top;\n",
              "    }\n",
              "\n",
              "    .dataframe thead th {\n",
              "        text-align: right;\n",
              "    }\n",
              "<\/style>\n",
              "<table border=\"1\" class=\"dataframe\">\n",
              "  <thead>\n",
              "    <tr style=\"text-align: right;\">\n",
              "      <th><\/th>\n",
              "      <th>Rank<\/th>\n",
              "      <th>Title<\/th>\n",
              "      <th>Worldwide<\/th>\n",
              "      <th>Domestic<\/th>\n",
              "      <th>% from Domestic<\/th>\n",
              "      <th>Foreign<\/th>\n",
              "      <th>% from Foreign<\/th>\n",
              "      <th>Release Date<\/th>\n",
              "      <th>Opening Earnings<\/th>\n",
              "      <th>Domestic Distributor<\/th>\n",
              "      <th>Running Time<\/th>\n",
              "      <th>Genres<\/th>\n",
              "      <th>MPAA<\/th>\n",
              "      <th>Budget<\/th>\n",
              "    <\/tr>\n",
              "  <\/thead>\n",
              "  <tbody>\n",
              "    <tr>\n",
              "      <th>0<\/th>\n",
              "      <td>1<\/td>\n",
              "      <td>homealone<\/td>\n",
              "      <td>$285,761,244<\/td>\n",
              "      <td>$285,761,243<\/td>\n",
              "      <td>100%<\/td>\n",
              "      <td>$1<\/td>\n",
              "      <td>&lt;0.1%<\/td>\n",
              "      <td>Nov 16, 1990<\/td>\n",
              "      <td>$17,081,997<\/td>\n",
              "      <td>Twentieth Century Fox<\/td>\n",
              "      <td>1 hr 43 min<\/td>\n",
              "      <td>Comedy Family<\/td>\n",
              "      <td>-<\/td>\n",
              "      <td>$15,000,000<\/td>\n",
              "    <\/tr>\n",
              "    <tr>\n",
              "      <th>1<\/th>\n",
              "      <td>2<\/td>\n",
              "      <td>ghost<\/td>\n",
              "      <td>$217,631,306<\/td>\n",
              "      <td>$217,631,306<\/td>\n",
              "      <td>100%<\/td>\n",
              "      <td>-<\/td>\n",
              "      <td>-<\/td>\n",
              "      <td>Jul 13, 1990<\/td>\n",
              "      <td>$12,191,540<\/td>\n",
              "      <td>Paramount Pictures<\/td>\n",
              "      <td>2 hr 7 min<\/td>\n",
              "      <td>Drama Fantasy Romance Thriller<\/td>\n",
              "      <td>-<\/td>\n",
              "      <td>$22,000,000<\/td>\n",
              "    <\/tr>\n",
              "    <tr>\n",
              "      <th>2<\/th>\n",
              "      <td>3<\/td>\n",
              "      <td>danceswithwolves<\/td>\n",
              "      <td>$184,208,848<\/td>\n",
              "      <td>$184,208,848<\/td>\n",
              "      <td>100%<\/td>\n",
              "      <td>-<\/td>\n",
              "      <td>-<\/td>\n",
              "      <td>Nov 9, 1990<\/td>\n",
              "      <td>$598,257<\/td>\n",
              "      <td>Orion Pictures<\/td>\n",
              "      <td>3 hr 1 min<\/td>\n",
              "      <td>Adventure Drama Western<\/td>\n",
              "      <td>-<\/td>\n",
              "      <td>$19,000,000<\/td>\n",
              "    <\/tr>\n",
              "    <tr>\n",
              "      <th>3<\/th>\n",
              "      <td>4<\/td>\n",
              "      <td>prettywoman<\/td>\n",
              "      <td>$178,406,268<\/td>\n",
              "      <td>$178,406,268<\/td>\n",
              "      <td>100%<\/td>\n",
              "      <td>-<\/td>\n",
              "      <td>-<\/td>\n",
              "      <td>Mar 23, 1990<\/td>\n",
              "      <td>$11,280,591<\/td>\n",
              "      <td>Walt Disney Studios Motion Pictures<\/td>\n",
              "      <td>1 hr 59 min<\/td>\n",
              "      <td>Comedy Romance<\/td>\n",
              "      <td>R<\/td>\n",
              "      <td>$14,000,000<\/td>\n",
              "    <\/tr>\n",
              "    <tr>\n",
              "      <th>4<\/th>\n",
              "      <td>5<\/td>\n",
              "      <td>teenagemutantninjaturtles<\/td>\n",
              "      <td>$135,265,915<\/td>\n",
              "      <td>$135,265,915<\/td>\n",
              "      <td>100%<\/td>\n",
              "      <td>-<\/td>\n",
              "      <td>-<\/td>\n",
              "      <td>Mar 30, 1990<\/td>\n",
              "      <td>$25,398,367<\/td>\n",
              "      <td>New Line Cinema<\/td>\n",
              "      <td>1 hr 33 min<\/td>\n",
              "      <td>Action Adventure Comedy Family Sci-Fi<\/td>\n",
              "      <td>-<\/td>\n",
              "      <td>$125,000,000<\/td>\n",
              "    <\/tr>\n",
              "    <tr>\n",
              "      <th>...<\/th>\n",
              "      <td>...<\/td>\n",
              "      <td>...<\/td>\n",
              "      <td>...<\/td>\n",
              "      <td>...<\/td>\n",
              "      <td>...<\/td>\n",
              "      <td>...<\/td>\n",
              "      <td>...<\/td>\n",
              "      <td>...<\/td>\n",
              "      <td>...<\/td>\n",
              "      <td>...<\/td>\n",
              "      <td>...<\/td>\n",
              "      <td>...<\/td>\n",
              "      <td>...<\/td>\n",
              "      <td>...<\/td>\n",
              "    <\/tr>\n",
              "    <tr>\n",
              "      <th>6420<\/th>\n",
              "      <td>102<\/td>\n",
              "      <td>bogia<\/td>\n",
              "      <td>$17,480,489<\/td>\n",
              "      <td>$350,000<\/td>\n",
              "      <td>2%<\/td>\n",
              "      <td>$17,130,489<\/td>\n",
              "      <td>98%<\/td>\n",
              "      <td>May 28, 2021<\/td>\n",
              "      <td>$350,000<\/td>\n",
              "      <td>3388 Films<\/td>\n",
              "      <td>2 hr 8 min<\/td>\n",
              "      <td>Comedy Drama Family<\/td>\n",
              "      <td>-<\/td>\n",
              "      <td>$1,000,000<\/td>\n",
              "    <\/tr>\n",
              "    <tr>\n",
              "      <th>6428<\/th>\n",
              "      <td>110<\/td>\n",
              "      <td>reminiscence<\/td>\n",
              "      <td>$15,800,193<\/td>\n",
              "      <td>$3,900,193<\/td>\n",
              "      <td>24.7%<\/td>\n",
              "      <td>$11,900,000<\/td>\n",
              "      <td>75.3%<\/td>\n",
              "      <td>Aug 20, 2021<\/td>\n",
              "      <td>$1,950,793<\/td>\n",
              "      <td>Warner Bros.<\/td>\n",
              "      <td>1 hr 56 min<\/td>\n",
              "      <td>Mystery Romance Sci-Fi Thriller<\/td>\n",
              "      <td>PG-13<\/td>\n",
              "      <td>$67,972,729<\/td>\n",
              "    <\/tr>\n",
              "    <tr>\n",
              "      <th>6430<\/th>\n",
              "      <td>112<\/td>\n",
              "      <td>minari<\/td>\n",
              "      <td>$15,372,376<\/td>\n",
              "      <td>$3,110,580<\/td>\n",
              "      <td>20.2%<\/td>\n",
              "      <td>$12,261,796<\/td>\n",
              "      <td>79.8%<\/td>\n",
              "      <td>Feb 12, 2021<\/td>\n",
              "      <td>$193,460<\/td>\n",
              "      <td>A24<\/td>\n",
              "      <td>1 hr 55 min<\/td>\n",
              "      <td>Drama<\/td>\n",
              "      <td>PG-13<\/td>\n",
              "      <td>$2,000,000<\/td>\n",
              "    <\/tr>\n",
              "    <tr>\n",
              "      <th>6490<\/th>\n",
              "      <td>172<\/td>\n",
              "      <td>judasandtheblackmessiah<\/td>\n",
              "      <td>$6,798,511<\/td>\n",
              "      <td>$5,446,607<\/td>\n",
              "      <td>80.1%<\/td>\n",
              "      <td>$1,351,904<\/td>\n",
              "      <td>19.9%<\/td>\n",
              "      <td>Feb 12, 2021<\/td>\n",
              "      <td>$2,027,076<\/td>\n",
              "      <td>Warner Bros.<\/td>\n",
              "      <td>2 hr 6 min<\/td>\n",
              "      <td>Biography Drama History<\/td>\n",
              "      <td>R<\/td>\n",
              "      <td>$26,000,000<\/td>\n",
              "    <\/tr>\n",
              "    <tr>\n",
              "      <th>6514<\/th>\n",
              "      <td>196<\/td>\n",
              "      <td>harrypotterandthesorcerersstone2021rerelease<\/td>\n",
              "      <td>$5,566,768<\/td>\n",
              "      <td>-<\/td>\n",
              "      <td>-<\/td>\n",
              "      <td>$5,566,768<\/td>\n",
              "      <td>100%<\/td>\n",
              "      <td>Nov 12, 2021<\/td>\n",
              "      <td>$582,125<\/td>\n",
              "      <td>Warner Bros.<\/td>\n",
              "      <td>2 hr 32 min<\/td>\n",
              "      <td>Adventure Family Fantasy<\/td>\n",
              "      <td>PG<\/td>\n",
              "      <td>$125,000,000<\/td>\n",
              "    <\/tr>\n",
              "  <\/tbody>\n",
              "<\/table>\n",
              "<p>3726 rows × 14 columns<\/p>\n",
              "<\/div>"
            ]
          },
          "metadata":{
            
          },
          "output_type":"display_data"
        }
      ],
      "metadata":{
        
      }
    },
    {
      "cell_type":"markdown",
      "source":[
        "Here we map the function rr onto the columns Worldwide, Domestic, Opening Earnings, Budget to remove anything that is not alphanumeric characters. We did this so that the numbers for each of these columns are only numbers which are machine learning models can understand. "
      ],
      "attachments":{
        
      },
      "metadata":{
        
      }
    },
    {
      "cell_type":"code",
      "source":[
        "sample_true['Worldwide'] = sample_true['Worldwide'].map(rr)\n",
        "sample_true['Domestic'] = sample_true['Domestic'].map(rr)\n",
        "sample_true['Opening Earnings'] = sample_true['Opening Earnings'].map(rr)\n",
        "sample_true['Budget'] = sample_true['Budget'].map(rr)"
      ],
      "execution_count":11,
      "outputs":[
        
      ],
      "metadata":{
        
      }
    },
    {
      "cell_type":"markdown",
      "source":[
        "Release fix takes a date in a release (formatted Month,Day,Year), splits around spaces in the place of commas (pure comma splitting was causing issues), creates a dictionary with months corresponding to their string representations on BoxOfficeMojo, drops all list values appended that were \"\", and finally converts the date to a number, specifically days since 0AD. (days + months x 30 + year x 365)"
      ],
      "attachments":{
        
      },
      "metadata":{
        
      }
    },
    {
      "cell_type":"code",
      "source":[
        "def release_fix(x):\n",
        "    L = str(x).strip().replace(',', \" \").split(\" \")\n",
        "    transf = {'Jan':1,\n",
        "             'Feb':2,\n",
        "             'Mar':3,\n",
        "             'Apr':4,\n",
        "             'May':5,\n",
        "             'Jun':6,\n",
        "             'Jul':7,\n",
        "             'Aug':8,\n",
        "             'Sep':9,\n",
        "             'Oct':10,\n",
        "             'Nov':11,\n",
        "             'Dec':12}\n",
        "    for x in L:\n",
        "        if x==\"\":\n",
        "            L.remove(x)\n",
        "    try:\n",
        "        R = transf[L[0]] * 30 + int(L[1]) + int(L[2]) * 365\n",
        "    except KeyError:\n",
        "        return \"-\"\n",
        "    return R\n",
        "sample_true['Release Date'] = sample_true['Release Date'].map(release_fix)\n",
        "sample_true"
      ],
      "execution_count":12,
      "outputs":[
        {
          "data":{
            "text\/html":[
              "<div>\n",
              "<style scoped>\n",
              "    .dataframe tbody tr th:only-of-type {\n",
              "        vertical-align: middle;\n",
              "    }\n",
              "\n",
              "    .dataframe tbody tr th {\n",
              "        vertical-align: top;\n",
              "    }\n",
              "\n",
              "    .dataframe thead th {\n",
              "        text-align: right;\n",
              "    }\n",
              "<\/style>\n",
              "<table border=\"1\" class=\"dataframe\">\n",
              "  <thead>\n",
              "    <tr style=\"text-align: right;\">\n",
              "      <th><\/th>\n",
              "      <th>Rank<\/th>\n",
              "      <th>Title<\/th>\n",
              "      <th>Worldwide<\/th>\n",
              "      <th>Domestic<\/th>\n",
              "      <th>% from Domestic<\/th>\n",
              "      <th>Foreign<\/th>\n",
              "      <th>% from Foreign<\/th>\n",
              "      <th>Release Date<\/th>\n",
              "      <th>Opening Earnings<\/th>\n",
              "      <th>Domestic Distributor<\/th>\n",
              "      <th>Running Time<\/th>\n",
              "      <th>Genres<\/th>\n",
              "      <th>MPAA<\/th>\n",
              "      <th>Budget<\/th>\n",
              "    <\/tr>\n",
              "  <\/thead>\n",
              "  <tbody>\n",
              "    <tr>\n",
              "      <th>0<\/th>\n",
              "      <td>1<\/td>\n",
              "      <td>homealone<\/td>\n",
              "      <td>285761244<\/td>\n",
              "      <td>285761243<\/td>\n",
              "      <td>100%<\/td>\n",
              "      <td>$1<\/td>\n",
              "      <td>&lt;0.1%<\/td>\n",
              "      <td>726696<\/td>\n",
              "      <td>17081997<\/td>\n",
              "      <td>Twentieth Century Fox<\/td>\n",
              "      <td>1 hr 43 min<\/td>\n",
              "      <td>Comedy Family<\/td>\n",
              "      <td>-<\/td>\n",
              "      <td>15000000<\/td>\n",
              "    <\/tr>\n",
              "    <tr>\n",
              "      <th>1<\/th>\n",
              "      <td>2<\/td>\n",
              "      <td>ghost<\/td>\n",
              "      <td>217631306<\/td>\n",
              "      <td>217631306<\/td>\n",
              "      <td>100%<\/td>\n",
              "      <td>-<\/td>\n",
              "      <td>-<\/td>\n",
              "      <td>726573<\/td>\n",
              "      <td>12191540<\/td>\n",
              "      <td>Paramount Pictures<\/td>\n",
              "      <td>2 hr 7 min<\/td>\n",
              "      <td>Drama Fantasy Romance Thriller<\/td>\n",
              "      <td>-<\/td>\n",
              "      <td>22000000<\/td>\n",
              "    <\/tr>\n",
              "    <tr>\n",
              "      <th>2<\/th>\n",
              "      <td>3<\/td>\n",
              "      <td>danceswithwolves<\/td>\n",
              "      <td>184208848<\/td>\n",
              "      <td>184208848<\/td>\n",
              "      <td>100%<\/td>\n",
              "      <td>-<\/td>\n",
              "      <td>-<\/td>\n",
              "      <td>726689<\/td>\n",
              "      <td>598257<\/td>\n",
              "      <td>Orion Pictures<\/td>\n",
              "      <td>3 hr 1 min<\/td>\n",
              "      <td>Adventure Drama Western<\/td>\n",
              "      <td>-<\/td>\n",
              "      <td>19000000<\/td>\n",
              "    <\/tr>\n",
              "    <tr>\n",
              "      <th>3<\/th>\n",
              "      <td>4<\/td>\n",
              "      <td>prettywoman<\/td>\n",
              "      <td>178406268<\/td>\n",
              "      <td>178406268<\/td>\n",
              "      <td>100%<\/td>\n",
              "      <td>-<\/td>\n",
              "      <td>-<\/td>\n",
              "      <td>726463<\/td>\n",
              "      <td>11280591<\/td>\n",
              "      <td>Walt Disney Studios Motion Pictures<\/td>\n",
              "      <td>1 hr 59 min<\/td>\n",
              "      <td>Comedy Romance<\/td>\n",
              "      <td>R<\/td>\n",
              "      <td>14000000<\/td>\n",
              "    <\/tr>\n",
              "    <tr>\n",
              "      <th>4<\/th>\n",
              "      <td>5<\/td>\n",
              "      <td>teenagemutantninjaturtles<\/td>\n",
              "      <td>135265915<\/td>\n",
              "      <td>135265915<\/td>\n",
              "      <td>100%<\/td>\n",
              "      <td>-<\/td>\n",
              "      <td>-<\/td>\n",
              "      <td>726470<\/td>\n",
              "      <td>25398367<\/td>\n",
              "      <td>New Line Cinema<\/td>\n",
              "      <td>1 hr 33 min<\/td>\n",
              "      <td>Action Adventure Comedy Family Sci-Fi<\/td>\n",
              "      <td>-<\/td>\n",
              "      <td>125000000<\/td>\n",
              "    <\/tr>\n",
              "    <tr>\n",
              "      <th>...<\/th>\n",
              "      <td>...<\/td>\n",
              "      <td>...<\/td>\n",
              "      <td>...<\/td>\n",
              "      <td>...<\/td>\n",
              "      <td>...<\/td>\n",
              "      <td>...<\/td>\n",
              "      <td>...<\/td>\n",
              "      <td>...<\/td>\n",
              "      <td>...<\/td>\n",
              "      <td>...<\/td>\n",
              "      <td>...<\/td>\n",
              "      <td>...<\/td>\n",
              "      <td>...<\/td>\n",
              "      <td>...<\/td>\n",
              "    <\/tr>\n",
              "    <tr>\n",
              "      <th>6420<\/th>\n",
              "      <td>102<\/td>\n",
              "      <td>bogia<\/td>\n",
              "      <td>17480489<\/td>\n",
              "      <td>350000<\/td>\n",
              "      <td>2%<\/td>\n",
              "      <td>$17,130,489<\/td>\n",
              "      <td>98%<\/td>\n",
              "      <td>737843<\/td>\n",
              "      <td>350000<\/td>\n",
              "      <td>3388 Films<\/td>\n",
              "      <td>2 hr 8 min<\/td>\n",
              "      <td>Comedy Drama Family<\/td>\n",
              "      <td>-<\/td>\n",
              "      <td>1000000<\/td>\n",
              "    <\/tr>\n",
              "    <tr>\n",
              "      <th>6428<\/th>\n",
              "      <td>110<\/td>\n",
              "      <td>reminiscence<\/td>\n",
              "      <td>15800193<\/td>\n",
              "      <td>3900193<\/td>\n",
              "      <td>24.7%<\/td>\n",
              "      <td>$11,900,000<\/td>\n",
              "      <td>75.3%<\/td>\n",
              "      <td>737925<\/td>\n",
              "      <td>1950793<\/td>\n",
              "      <td>Warner Bros.<\/td>\n",
              "      <td>1 hr 56 min<\/td>\n",
              "      <td>Mystery Romance Sci-Fi Thriller<\/td>\n",
              "      <td>PG-13<\/td>\n",
              "      <td>67972729<\/td>\n",
              "    <\/tr>\n",
              "    <tr>\n",
              "      <th>6430<\/th>\n",
              "      <td>112<\/td>\n",
              "      <td>minari<\/td>\n",
              "      <td>15372376<\/td>\n",
              "      <td>3110580<\/td>\n",
              "      <td>20.2%<\/td>\n",
              "      <td>$12,261,796<\/td>\n",
              "      <td>79.8%<\/td>\n",
              "      <td>737737<\/td>\n",
              "      <td>193460<\/td>\n",
              "      <td>A24<\/td>\n",
              "      <td>1 hr 55 min<\/td>\n",
              "      <td>Drama<\/td>\n",
              "      <td>PG-13<\/td>\n",
              "      <td>2000000<\/td>\n",
              "    <\/tr>\n",
              "    <tr>\n",
              "      <th>6490<\/th>\n",
              "      <td>172<\/td>\n",
              "      <td>judasandtheblackmessiah<\/td>\n",
              "      <td>6798511<\/td>\n",
              "      <td>5446607<\/td>\n",
              "      <td>80.1%<\/td>\n",
              "      <td>$1,351,904<\/td>\n",
              "      <td>19.9%<\/td>\n",
              "      <td>737737<\/td>\n",
              "      <td>2027076<\/td>\n",
              "      <td>Warner Bros.<\/td>\n",
              "      <td>2 hr 6 min<\/td>\n",
              "      <td>Biography Drama History<\/td>\n",
              "      <td>R<\/td>\n",
              "      <td>26000000<\/td>\n",
              "    <\/tr>\n",
              "    <tr>\n",
              "      <th>6514<\/th>\n",
              "      <td>196<\/td>\n",
              "      <td>harrypotterandthesorcerersstone2021rerelease<\/td>\n",
              "      <td>5566768<\/td>\n",
              "      <td><\/td>\n",
              "      <td>-<\/td>\n",
              "      <td>$5,566,768<\/td>\n",
              "      <td>100%<\/td>\n",
              "      <td>738007<\/td>\n",
              "      <td>582125<\/td>\n",
              "      <td>Warner Bros.<\/td>\n",
              "      <td>2 hr 32 min<\/td>\n",
              "      <td>Adventure Family Fantasy<\/td>\n",
              "      <td>PG<\/td>\n",
              "      <td>125000000<\/td>\n",
              "    <\/tr>\n",
              "  <\/tbody>\n",
              "<\/table>\n",
              "<p>3726 rows × 14 columns<\/p>\n",
              "<\/div>"
            ]
          },
          "metadata":{
            
          },
          "output_type":"display_data"
        }
      ],
      "metadata":{
        
      }
    },
    {
      "cell_type":"markdown",
      "source":[
        "Takes the running time in box mojo format (x hr y min) and converts it to just minutes."
      ],
      "attachments":{
        
      },
      "metadata":{
        
      }
    },
    {
      "cell_type":"code",
      "source":[
        "def run_fix(x):\n",
        "    #split around hour\n",
        "    L = x.split('hr')\n",
        "    #drop values of \"\"\n",
        "    for x in L:\n",
        "        if x==\"\":\n",
        "            L.remove(x)\n",
        "    #ideal try -- movie has a runtime with both hours and minutes\n",
        "    try:\n",
        "        R = int(\"\".join([x for x in L[0] if str(x).isdigit()])) * 60 + int(\"\".join([x for x in L[1] if str(x).isdigit()]))\n",
        "    except IndexError:\n",
        "        # if the movie only has a runtime of hours\n",
        "        if len(L[0])==2:\n",
        "            return int(\"\".join([x for x in L[0] if str(x).isdigit()])) * 60\n",
        "        #if the movie only has a runtime of minutes\n",
        "        else:\n",
        "            return int(\"\".join([x for x in L[0] if str(x).isdigit()]))  \n",
        "    return R\n",
        "sample_true['Running Time'] = sample_true['Running Time'].map(run_fix)\n",
        "sample_true "
      ],
      "execution_count":13,
      "outputs":[
        {
          "data":{
            "text\/html":[
              "<div>\n",
              "<style scoped>\n",
              "    .dataframe tbody tr th:only-of-type {\n",
              "        vertical-align: middle;\n",
              "    }\n",
              "\n",
              "    .dataframe tbody tr th {\n",
              "        vertical-align: top;\n",
              "    }\n",
              "\n",
              "    .dataframe thead th {\n",
              "        text-align: right;\n",
              "    }\n",
              "<\/style>\n",
              "<table border=\"1\" class=\"dataframe\">\n",
              "  <thead>\n",
              "    <tr style=\"text-align: right;\">\n",
              "      <th><\/th>\n",
              "      <th>Rank<\/th>\n",
              "      <th>Title<\/th>\n",
              "      <th>Worldwide<\/th>\n",
              "      <th>Domestic<\/th>\n",
              "      <th>% from Domestic<\/th>\n",
              "      <th>Foreign<\/th>\n",
              "      <th>% from Foreign<\/th>\n",
              "      <th>Release Date<\/th>\n",
              "      <th>Opening Earnings<\/th>\n",
              "      <th>Domestic Distributor<\/th>\n",
              "      <th>Running Time<\/th>\n",
              "      <th>Genres<\/th>\n",
              "      <th>MPAA<\/th>\n",
              "      <th>Budget<\/th>\n",
              "    <\/tr>\n",
              "  <\/thead>\n",
              "  <tbody>\n",
              "    <tr>\n",
              "      <th>0<\/th>\n",
              "      <td>1<\/td>\n",
              "      <td>homealone<\/td>\n",
              "      <td>285761244<\/td>\n",
              "      <td>285761243<\/td>\n",
              "      <td>100%<\/td>\n",
              "      <td>$1<\/td>\n",
              "      <td>&lt;0.1%<\/td>\n",
              "      <td>726696<\/td>\n",
              "      <td>17081997<\/td>\n",
              "      <td>Twentieth Century Fox<\/td>\n",
              "      <td>103<\/td>\n",
              "      <td>Comedy Family<\/td>\n",
              "      <td>-<\/td>\n",
              "      <td>15000000<\/td>\n",
              "    <\/tr>\n",
              "    <tr>\n",
              "      <th>1<\/th>\n",
              "      <td>2<\/td>\n",
              "      <td>ghost<\/td>\n",
              "      <td>217631306<\/td>\n",
              "      <td>217631306<\/td>\n",
              "      <td>100%<\/td>\n",
              "      <td>-<\/td>\n",
              "      <td>-<\/td>\n",
              "      <td>726573<\/td>\n",
              "      <td>12191540<\/td>\n",
              "      <td>Paramount Pictures<\/td>\n",
              "      <td>127<\/td>\n",
              "      <td>Drama Fantasy Romance Thriller<\/td>\n",
              "      <td>-<\/td>\n",
              "      <td>22000000<\/td>\n",
              "    <\/tr>\n",
              "    <tr>\n",
              "      <th>2<\/th>\n",
              "      <td>3<\/td>\n",
              "      <td>danceswithwolves<\/td>\n",
              "      <td>184208848<\/td>\n",
              "      <td>184208848<\/td>\n",
              "      <td>100%<\/td>\n",
              "      <td>-<\/td>\n",
              "      <td>-<\/td>\n",
              "      <td>726689<\/td>\n",
              "      <td>598257<\/td>\n",
              "      <td>Orion Pictures<\/td>\n",
              "      <td>181<\/td>\n",
              "      <td>Adventure Drama Western<\/td>\n",
              "      <td>-<\/td>\n",
              "      <td>19000000<\/td>\n",
              "    <\/tr>\n",
              "    <tr>\n",
              "      <th>3<\/th>\n",
              "      <td>4<\/td>\n",
              "      <td>prettywoman<\/td>\n",
              "      <td>178406268<\/td>\n",
              "      <td>178406268<\/td>\n",
              "      <td>100%<\/td>\n",
              "      <td>-<\/td>\n",
              "      <td>-<\/td>\n",
              "      <td>726463<\/td>\n",
              "      <td>11280591<\/td>\n",
              "      <td>Walt Disney Studios Motion Pictures<\/td>\n",
              "      <td>119<\/td>\n",
              "      <td>Comedy Romance<\/td>\n",
              "      <td>R<\/td>\n",
              "      <td>14000000<\/td>\n",
              "    <\/tr>\n",
              "    <tr>\n",
              "      <th>4<\/th>\n",
              "      <td>5<\/td>\n",
              "      <td>teenagemutantninjaturtles<\/td>\n",
              "      <td>135265915<\/td>\n",
              "      <td>135265915<\/td>\n",
              "      <td>100%<\/td>\n",
              "      <td>-<\/td>\n",
              "      <td>-<\/td>\n",
              "      <td>726470<\/td>\n",
              "      <td>25398367<\/td>\n",
              "      <td>New Line Cinema<\/td>\n",
              "      <td>93<\/td>\n",
              "      <td>Action Adventure Comedy Family Sci-Fi<\/td>\n",
              "      <td>-<\/td>\n",
              "      <td>125000000<\/td>\n",
              "    <\/tr>\n",
              "    <tr>\n",
              "      <th>...<\/th>\n",
              "      <td>...<\/td>\n",
              "      <td>...<\/td>\n",
              "      <td>...<\/td>\n",
              "      <td>...<\/td>\n",
              "      <td>...<\/td>\n",
              "      <td>...<\/td>\n",
              "      <td>...<\/td>\n",
              "      <td>...<\/td>\n",
              "      <td>...<\/td>\n",
              "      <td>...<\/td>\n",
              "      <td>...<\/td>\n",
              "      <td>...<\/td>\n",
              "      <td>...<\/td>\n",
              "      <td>...<\/td>\n",
              "    <\/tr>\n",
              "    <tr>\n",
              "      <th>6420<\/th>\n",
              "      <td>102<\/td>\n",
              "      <td>bogia<\/td>\n",
              "      <td>17480489<\/td>\n",
              "      <td>350000<\/td>\n",
              "      <td>2%<\/td>\n",
              "      <td>$17,130,489<\/td>\n",
              "      <td>98%<\/td>\n",
              "      <td>737843<\/td>\n",
              "      <td>350000<\/td>\n",
              "      <td>3388 Films<\/td>\n",
              "      <td>128<\/td>\n",
              "      <td>Comedy Drama Family<\/td>\n",
              "      <td>-<\/td>\n",
              "      <td>1000000<\/td>\n",
              "    <\/tr>\n",
              "    <tr>\n",
              "      <th>6428<\/th>\n",
              "      <td>110<\/td>\n",
              "      <td>reminiscence<\/td>\n",
              "      <td>15800193<\/td>\n",
              "      <td>3900193<\/td>\n",
              "      <td>24.7%<\/td>\n",
              "      <td>$11,900,000<\/td>\n",
              "      <td>75.3%<\/td>\n",
              "      <td>737925<\/td>\n",
              "      <td>1950793<\/td>\n",
              "      <td>Warner Bros.<\/td>\n",
              "      <td>116<\/td>\n",
              "      <td>Mystery Romance Sci-Fi Thriller<\/td>\n",
              "      <td>PG-13<\/td>\n",
              "      <td>67972729<\/td>\n",
              "    <\/tr>\n",
              "    <tr>\n",
              "      <th>6430<\/th>\n",
              "      <td>112<\/td>\n",
              "      <td>minari<\/td>\n",
              "      <td>15372376<\/td>\n",
              "      <td>3110580<\/td>\n",
              "      <td>20.2%<\/td>\n",
              "      <td>$12,261,796<\/td>\n",
              "      <td>79.8%<\/td>\n",
              "      <td>737737<\/td>\n",
              "      <td>193460<\/td>\n",
              "      <td>A24<\/td>\n",
              "      <td>115<\/td>\n",
              "      <td>Drama<\/td>\n",
              "      <td>PG-13<\/td>\n",
              "      <td>2000000<\/td>\n",
              "    <\/tr>\n",
              "    <tr>\n",
              "      <th>6490<\/th>\n",
              "      <td>172<\/td>\n",
              "      <td>judasandtheblackmessiah<\/td>\n",
              "      <td>6798511<\/td>\n",
              "      <td>5446607<\/td>\n",
              "      <td>80.1%<\/td>\n",
              "      <td>$1,351,904<\/td>\n",
              "      <td>19.9%<\/td>\n",
              "      <td>737737<\/td>\n",
              "      <td>2027076<\/td>\n",
              "      <td>Warner Bros.<\/td>\n",
              "      <td>126<\/td>\n",
              "      <td>Biography Drama History<\/td>\n",
              "      <td>R<\/td>\n",
              "      <td>26000000<\/td>\n",
              "    <\/tr>\n",
              "    <tr>\n",
              "      <th>6514<\/th>\n",
              "      <td>196<\/td>\n",
              "      <td>harrypotterandthesorcerersstone2021rerelease<\/td>\n",
              "      <td>5566768<\/td>\n",
              "      <td><\/td>\n",
              "      <td>-<\/td>\n",
              "      <td>$5,566,768<\/td>\n",
              "      <td>100%<\/td>\n",
              "      <td>738007<\/td>\n",
              "      <td>582125<\/td>\n",
              "      <td>Warner Bros.<\/td>\n",
              "      <td>152<\/td>\n",
              "      <td>Adventure Family Fantasy<\/td>\n",
              "      <td>PG<\/td>\n",
              "      <td>125000000<\/td>\n",
              "    <\/tr>\n",
              "  <\/tbody>\n",
              "<\/table>\n",
              "<p>3726 rows × 14 columns<\/p>\n",
              "<\/div>"
            ]
          },
          "metadata":{
            
          },
          "output_type":"display_data"
        }
      ],
      "metadata":{
        
      }
    },
    {
      "cell_type":"markdown",
      "source":[
        "In the below cell we run the .replace() function on sample_true using the saved dictionary. The saved dictionary contains the original titles of teh movies before the rr function was run on them and the titles were stripped off of any charcters other than alphanumeric values, and made lowercase. So by running .replace() on \"Title\" with the saved dictionary we are able to go back to the original names of the movie. "
      ],
      "attachments":{
        
      },
      "metadata":{
        
      }
    },
    {
      "cell_type":"code",
      "source":[
        "final_df = sample_true.replace({\"Title\": saved})"
      ],
      "execution_count":14,
      "outputs":[
        
      ],
      "metadata":{
        
      }
    },
    {
      "cell_type":"markdown",
      "source":[
        "In the below cell we create a new variable visualization_df that holds the sample_true dataframe. We run .map(int) on the \"Worldwide\" and \"Running Time\" columns to convert the values to integers. We also run .map(rr) on the \"Domestic\" column so that we can strip the values of the dollar signs. We want a separate dataframe for visualizations so that we can get meaningful visualizations using plotly that can provide meaningful data such as names for domestic distributor before they are converted to integers. This makes the vizualisations more interesting. "
      ],
      "attachments":{
        
      },
      "metadata":{
        
      }
    },
    {
      "cell_type":"code",
      "source":[
        "visualization_df = sample_true.replace({\"Title\": saved})\n",
        "visualization_df['Worldwide'] = visualization_df['Worldwide'].map(int)\n",
        "visualization_df['Domestic'] = visualization_df['Domestic'].map(rr)\n",
        "visualization_df['Running Time'] = visualization_df['Running Time'].map(int)"
      ],
      "execution_count":15,
      "outputs":[
        
      ],
      "metadata":{
        
      }
    },
    {
      "cell_type":"markdown",
      "source":[
        "Goes over the dataframe and pulls all unique values out from the Domestic Distributor column. For each Domestic Distributor, a value between 1 and length of unique domestic distributors is assigned in a dictionary."
      ],
      "attachments":{
        
      },
      "metadata":{
        
      }
    },
    {
      "cell_type":"code",
      "source":[
        "Distrib_map = {}\n",
        "i=0\n",
        "for x in final_df['Domestic Distributor'].unique():\n",
        "    Distrib_map[x] = i\n",
        "    i+=1"
      ],
      "execution_count":16,
      "outputs":[
        
      ],
      "metadata":{
        
      }
    },
    {
      "cell_type":"markdown",
      "source":[
        "Iterates through all values in genres and splits each entry (multiple genres, formatted as something like \"Comedy Action Western\") and appends each value to a list. Takes that list, turns it into a set (drops all non-unique values), and turns that set into a dictionary with each genre mapped to a number 1 through length of set g.\n",
        "Then takes the genres in the string of genres in the [Genres] column for each movie and assigns it to a list, then maps the dictionary value assigned from Genre_map above, then takes the first value in the new list as the genre that represents the movie (as the first genre on BoxOfficeMojo is the most descriptive). The index position in the list matches up to the index position in the dataframe."
      ],
      "attachments":{
        
      },
      "metadata":{
        
      }
    },
    {
      "cell_type":"code",
      "source":[
        "G_list = []\n",
        "for x in final_df['Genres']:\n",
        "    for y in x.split(\" \"):\n",
        "        G_list.append(y)\n",
        "\n",
        "j=0\n",
        "Genre_map = {}\n",
        "g = set(G_list)\n",
        "for x in g:\n",
        "    Genre_map[x] = j\n",
        "    j+=1\n",
        "    \n",
        "\n",
        "full = []\n",
        "for x in final_df['Genres']:\n",
        "    S = x.split(\" \")\n",
        "    genres_num = []\n",
        "    for y in S:\n",
        "        genres_num.append(Genre_map[y])\n",
        "    full.append(genres_num[0])"
      ],
      "execution_count":17,
      "outputs":[
        
      ],
      "metadata":{
        
      }
    },
    {
      "cell_type":"markdown",
      "source":[
        "Replace the Domestic Distributor values with the dictionary value assigned to it."
      ],
      "attachments":{
        
      },
      "metadata":{
        
      }
    },
    {
      "cell_type":"code",
      "source":[
        "final_df = final_df.replace({\"Domestic Distributor\": Distrib_map})"
      ],
      "execution_count":18,
      "outputs":[
        
      ],
      "metadata":{
        
      }
    },
    {
      "cell_type":"markdown",
      "source":[
        "The below cell assigns the \"Genres\" column to the list full that contains a list of integers corresponding to each genre. Each column only contains one genre. We did this because the machine learning models, and the pca reduction did not seem to work witha  list of integers. "
      ],
      "attachments":{
        
      },
      "metadata":{
        
      }
    },
    {
      "cell_type":"code",
      "source":[
        "final_df['Genres'] = full"
      ],
      "execution_count":19,
      "outputs":[
        
      ],
      "metadata":{
        
      }
    },
    {
      "cell_type":"markdown",
      "source":[
        "Cast each value in Budget, Worldwide, and Opening Earnings to an integer."
      ],
      "attachments":{
        
      },
      "metadata":{
        
      }
    },
    {
      "cell_type":"code",
      "source":[
        "final_df['Budget'] = final_df['Budget'].map(int)\n",
        "final_df['Worldwide'] = final_df['Worldwide'].map(int)\n",
        "final_df['Opening Earnings'] = final_df['Opening Earnings'].map(int)"
      ],
      "execution_count":20,
      "outputs":[
        
      ],
      "metadata":{
        
      }
    },
    {
      "cell_type":"markdown",
      "source":[
        "Returns either an integer or the original value. Becuase this is called after rr is mapped to domestic, it is only dealing with pure numbers in string format or \"-\" values."
      ],
      "attachments":{
        
      },
      "metadata":{
        
      }
    },
    {
      "cell_type":"code",
      "source":[
        "def modified_int(x):\n",
        "    try:\n",
        "        return int(x)\n",
        "    except ValueError:\n",
        "        return x\n",
        "\n",
        "final_df['Domestic'] = final_df['Domestic'].map(modified_int)"
      ],
      "execution_count":21,
      "outputs":[
        
      ],
      "metadata":{
        
      }
    },
    {
      "cell_type":"markdown",
      "source":[
        "Here we produce a new column Budget per minute of Runtime by dividing the two columns Budget and Running Time. We did this to produce a new feature varaible that can be used by our model to make predictions. We thought this would be an interesting feature since we can see how much budget has been put into each minute of a movie. For instance a million dollar budget over a three hour long movie doesn't seem like much in comparison to a million dollars into a 30 minute long movie. This feature would help us distinguish such cases. "
      ],
      "attachments":{
        
      },
      "metadata":{
        
      }
    },
    {
      "cell_type":"code",
      "source":[
        "final_df[\"Budget per Minute of Runtime\"] = final_df[\"Budget\"] \/ final_df[\"Running Time\"]"
      ],
      "execution_count":22,
      "outputs":[
        
      ],
      "metadata":{
        
      }
    },
    {
      "cell_type":"markdown",
      "source":[
        "The below cell contains the function convert_no_rating which converts \"-\" values for MPAA to NR. The reason this is being done is so that it is more representative of not having a rating. This function is run on the \"MPAA\" column using .map() to convert all \"-\" values to \"NR\"."
      ],
      "attachments":{
        
      },
      "metadata":{
        
      }
    },
    {
      "cell_type":"code",
      "source":[
        "def convert_no_rating(x):\n",
        "    if x == \"-\":\n",
        "        return \"NR\"\n",
        "    else:\n",
        "        return x\n",
        "\n",
        "final_df[\"MPAA\"] = final_df[\"MPAA\"].map(convert_no_rating)\n",
        "final_df"
      ],
      "execution_count":23,
      "outputs":[
        {
          "data":{
            "text\/html":[
              "<div>\n",
              "<style scoped>\n",
              "    .dataframe tbody tr th:only-of-type {\n",
              "        vertical-align: middle;\n",
              "    }\n",
              "\n",
              "    .dataframe tbody tr th {\n",
              "        vertical-align: top;\n",
              "    }\n",
              "\n",
              "    .dataframe thead th {\n",
              "        text-align: right;\n",
              "    }\n",
              "<\/style>\n",
              "<table border=\"1\" class=\"dataframe\">\n",
              "  <thead>\n",
              "    <tr style=\"text-align: right;\">\n",
              "      <th><\/th>\n",
              "      <th>Rank<\/th>\n",
              "      <th>Title<\/th>\n",
              "      <th>Worldwide<\/th>\n",
              "      <th>Domestic<\/th>\n",
              "      <th>% from Domestic<\/th>\n",
              "      <th>Foreign<\/th>\n",
              "      <th>% from Foreign<\/th>\n",
              "      <th>Release Date<\/th>\n",
              "      <th>Opening Earnings<\/th>\n",
              "      <th>Domestic Distributor<\/th>\n",
              "      <th>Running Time<\/th>\n",
              "      <th>Genres<\/th>\n",
              "      <th>MPAA<\/th>\n",
              "      <th>Budget<\/th>\n",
              "      <th>Budget per Minute of Runtime<\/th>\n",
              "    <\/tr>\n",
              "  <\/thead>\n",
              "  <tbody>\n",
              "    <tr>\n",
              "      <th>0<\/th>\n",
              "      <td>1<\/td>\n",
              "      <td>Home Alone<\/td>\n",
              "      <td>285761244<\/td>\n",
              "      <td>285761243<\/td>\n",
              "      <td>100%<\/td>\n",
              "      <td>$1<\/td>\n",
              "      <td>&lt;0.1%<\/td>\n",
              "      <td>726696<\/td>\n",
              "      <td>17081997<\/td>\n",
              "      <td>0<\/td>\n",
              "      <td>103<\/td>\n",
              "      <td>22<\/td>\n",
              "      <td>NR<\/td>\n",
              "      <td>15000000<\/td>\n",
              "      <td>1.456311e+05<\/td>\n",
              "    <\/tr>\n",
              "    <tr>\n",
              "      <th>1<\/th>\n",
              "      <td>2<\/td>\n",
              "      <td>Ghost<\/td>\n",
              "      <td>217631306<\/td>\n",
              "      <td>217631306<\/td>\n",
              "      <td>100%<\/td>\n",
              "      <td>-<\/td>\n",
              "      <td>-<\/td>\n",
              "      <td>726573<\/td>\n",
              "      <td>12191540<\/td>\n",
              "      <td>1<\/td>\n",
              "      <td>127<\/td>\n",
              "      <td>11<\/td>\n",
              "      <td>NR<\/td>\n",
              "      <td>22000000<\/td>\n",
              "      <td>1.732283e+05<\/td>\n",
              "    <\/tr>\n",
              "    <tr>\n",
              "      <th>2<\/th>\n",
              "      <td>3<\/td>\n",
              "      <td>Dances with Wolves<\/td>\n",
              "      <td>184208848<\/td>\n",
              "      <td>184208848<\/td>\n",
              "      <td>100%<\/td>\n",
              "      <td>-<\/td>\n",
              "      <td>-<\/td>\n",
              "      <td>726689<\/td>\n",
              "      <td>598257<\/td>\n",
              "      <td>2<\/td>\n",
              "      <td>181<\/td>\n",
              "      <td>3<\/td>\n",
              "      <td>NR<\/td>\n",
              "      <td>19000000<\/td>\n",
              "      <td>1.049724e+05<\/td>\n",
              "    <\/tr>\n",
              "    <tr>\n",
              "      <th>3<\/th>\n",
              "      <td>4<\/td>\n",
              "      <td>Pretty Woman<\/td>\n",
              "      <td>178406268<\/td>\n",
              "      <td>178406268<\/td>\n",
              "      <td>100%<\/td>\n",
              "      <td>-<\/td>\n",
              "      <td>-<\/td>\n",
              "      <td>726463<\/td>\n",
              "      <td>11280591<\/td>\n",
              "      <td>3<\/td>\n",
              "      <td>119<\/td>\n",
              "      <td>22<\/td>\n",
              "      <td>R<\/td>\n",
              "      <td>14000000<\/td>\n",
              "      <td>1.176471e+05<\/td>\n",
              "    <\/tr>\n",
              "    <tr>\n",
              "      <th>4<\/th>\n",
              "      <td>5<\/td>\n",
              "      <td>Teenage Mutant Ninja Turtles<\/td>\n",
              "      <td>135265915<\/td>\n",
              "      <td>135265915<\/td>\n",
              "      <td>100%<\/td>\n",
              "      <td>-<\/td>\n",
              "      <td>-<\/td>\n",
              "      <td>726470<\/td>\n",
              "      <td>25398367<\/td>\n",
              "      <td>4<\/td>\n",
              "      <td>93<\/td>\n",
              "      <td>10<\/td>\n",
              "      <td>NR<\/td>\n",
              "      <td>125000000<\/td>\n",
              "      <td>1.344086e+06<\/td>\n",
              "    <\/tr>\n",
              "    <tr>\n",
              "      <th>...<\/th>\n",
              "      <td>...<\/td>\n",
              "      <td>...<\/td>\n",
              "      <td>...<\/td>\n",
              "      <td>...<\/td>\n",
              "      <td>...<\/td>\n",
              "      <td>...<\/td>\n",
              "      <td>...<\/td>\n",
              "      <td>...<\/td>\n",
              "      <td>...<\/td>\n",
              "      <td>...<\/td>\n",
              "      <td>...<\/td>\n",
              "      <td>...<\/td>\n",
              "      <td>...<\/td>\n",
              "      <td>...<\/td>\n",
              "      <td>...<\/td>\n",
              "    <\/tr>\n",
              "    <tr>\n",
              "      <th>6420<\/th>\n",
              "      <td>102<\/td>\n",
              "      <td>Bo Gia<\/td>\n",
              "      <td>17480489<\/td>\n",
              "      <td>350000<\/td>\n",
              "      <td>2%<\/td>\n",
              "      <td>$17,130,489<\/td>\n",
              "      <td>98%<\/td>\n",
              "      <td>737843<\/td>\n",
              "      <td>350000<\/td>\n",
              "      <td>113<\/td>\n",
              "      <td>128<\/td>\n",
              "      <td>22<\/td>\n",
              "      <td>NR<\/td>\n",
              "      <td>1000000<\/td>\n",
              "      <td>7.812500e+03<\/td>\n",
              "    <\/tr>\n",
              "    <tr>\n",
              "      <th>6428<\/th>\n",
              "      <td>110<\/td>\n",
              "      <td>Reminiscence<\/td>\n",
              "      <td>15800193<\/td>\n",
              "      <td>3900193<\/td>\n",
              "      <td>24.7%<\/td>\n",
              "      <td>$11,900,000<\/td>\n",
              "      <td>75.3%<\/td>\n",
              "      <td>737925<\/td>\n",
              "      <td>1950793<\/td>\n",
              "      <td>8<\/td>\n",
              "      <td>116<\/td>\n",
              "      <td>2<\/td>\n",
              "      <td>PG-13<\/td>\n",
              "      <td>67972729<\/td>\n",
              "      <td>5.859718e+05<\/td>\n",
              "    <\/tr>\n",
              "    <tr>\n",
              "      <th>6430<\/th>\n",
              "      <td>112<\/td>\n",
              "      <td>Minari<\/td>\n",
              "      <td>15372376<\/td>\n",
              "      <td>3110580<\/td>\n",
              "      <td>20.2%<\/td>\n",
              "      <td>$12,261,796<\/td>\n",
              "      <td>79.8%<\/td>\n",
              "      <td>737737<\/td>\n",
              "      <td>193460<\/td>\n",
              "      <td>81<\/td>\n",
              "      <td>115<\/td>\n",
              "      <td>11<\/td>\n",
              "      <td>PG-13<\/td>\n",
              "      <td>2000000<\/td>\n",
              "      <td>1.739130e+04<\/td>\n",
              "    <\/tr>\n",
              "    <tr>\n",
              "      <th>6490<\/th>\n",
              "      <td>172<\/td>\n",
              "      <td>Judas and the Black Messiah<\/td>\n",
              "      <td>6798511<\/td>\n",
              "      <td>5446607<\/td>\n",
              "      <td>80.1%<\/td>\n",
              "      <td>$1,351,904<\/td>\n",
              "      <td>19.9%<\/td>\n",
              "      <td>737737<\/td>\n",
              "      <td>2027076<\/td>\n",
              "      <td>8<\/td>\n",
              "      <td>126<\/td>\n",
              "      <td>15<\/td>\n",
              "      <td>R<\/td>\n",
              "      <td>26000000<\/td>\n",
              "      <td>2.063492e+05<\/td>\n",
              "    <\/tr>\n",
              "    <tr>\n",
              "      <th>6514<\/th>\n",
              "      <td>196<\/td>\n",
              "      <td>Harry Potter and the Sorcerer's Stone 2021 Re-...<\/td>\n",
              "      <td>5566768<\/td>\n",
              "      <td><\/td>\n",
              "      <td>-<\/td>\n",
              "      <td>$5,566,768<\/td>\n",
              "      <td>100%<\/td>\n",
              "      <td>738007<\/td>\n",
              "      <td>582125<\/td>\n",
              "      <td>8<\/td>\n",
              "      <td>152<\/td>\n",
              "      <td>3<\/td>\n",
              "      <td>PG<\/td>\n",
              "      <td>125000000<\/td>\n",
              "      <td>8.223684e+05<\/td>\n",
              "    <\/tr>\n",
              "  <\/tbody>\n",
              "<\/table>\n",
              "<p>3726 rows × 15 columns<\/p>\n",
              "<\/div>"
            ]
          },
          "metadata":{
            
          },
          "output_type":"display_data"
        }
      ],
      "metadata":{
        
      }
    },
    {
      "cell_type":"markdown",
      "source":[
        "The below code snippet is used to create a dictionary called rating_map that maps each type of rating to an integer. We do this buy iterating through the unique values of the \"MPAA\" column. This produces a dictionary where each rating has a corresponding integer. For example \"NR\" is mapped to zero. This is done so that we can represent the ratings as integers rather than strings so that the model can use rating. "
      ],
      "attachments":{
        
      },
      "metadata":{
        
      }
    },
    {
      "cell_type":"code",
      "source":[
        "rating_map = {}\n",
        "i=0\n",
        "for x in final_df['MPAA'].unique():\n",
        "    rating_map[x] = i\n",
        "    i+=1\n",
        "rating_map"
      ],
      "execution_count":24,
      "outputs":[
        {
          "data":{
            "text\/plain":[
              "{'NR': 0, 'R': 1, 'PG': 2, 'PG-13': 3, 'Approved': 4, 'G': 5, 'NC-17': 6}"
            ]
          },
          "metadata":{
            
          },
          "output_type":"display_data"
        }
      ],
      "metadata":{
        
      }
    },
    {
      "cell_type":"markdown",
      "source":[
        "Here the ratings are replaced with the .replace() method using the rating_map dictionary made in the above snippet. "
      ],
      "attachments":{
        
      },
      "metadata":{
        
      }
    },
    {
      "cell_type":"code",
      "source":[
        "final_df = final_df.replace({\"MPAA\": rating_map})\n",
        "final_df"
      ],
      "execution_count":25,
      "outputs":[
        {
          "data":{
            "text\/html":[
              "<div>\n",
              "<style scoped>\n",
              "    .dataframe tbody tr th:only-of-type {\n",
              "        vertical-align: middle;\n",
              "    }\n",
              "\n",
              "    .dataframe tbody tr th {\n",
              "        vertical-align: top;\n",
              "    }\n",
              "\n",
              "    .dataframe thead th {\n",
              "        text-align: right;\n",
              "    }\n",
              "<\/style>\n",
              "<table border=\"1\" class=\"dataframe\">\n",
              "  <thead>\n",
              "    <tr style=\"text-align: right;\">\n",
              "      <th><\/th>\n",
              "      <th>Rank<\/th>\n",
              "      <th>Title<\/th>\n",
              "      <th>Worldwide<\/th>\n",
              "      <th>Domestic<\/th>\n",
              "      <th>% from Domestic<\/th>\n",
              "      <th>Foreign<\/th>\n",
              "      <th>% from Foreign<\/th>\n",
              "      <th>Release Date<\/th>\n",
              "      <th>Opening Earnings<\/th>\n",
              "      <th>Domestic Distributor<\/th>\n",
              "      <th>Running Time<\/th>\n",
              "      <th>Genres<\/th>\n",
              "      <th>MPAA<\/th>\n",
              "      <th>Budget<\/th>\n",
              "      <th>Budget per Minute of Runtime<\/th>\n",
              "    <\/tr>\n",
              "  <\/thead>\n",
              "  <tbody>\n",
              "    <tr>\n",
              "      <th>0<\/th>\n",
              "      <td>1<\/td>\n",
              "      <td>Home Alone<\/td>\n",
              "      <td>285761244<\/td>\n",
              "      <td>285761243<\/td>\n",
              "      <td>100%<\/td>\n",
              "      <td>$1<\/td>\n",
              "      <td>&lt;0.1%<\/td>\n",
              "      <td>726696<\/td>\n",
              "      <td>17081997<\/td>\n",
              "      <td>0<\/td>\n",
              "      <td>103<\/td>\n",
              "      <td>22<\/td>\n",
              "      <td>0<\/td>\n",
              "      <td>15000000<\/td>\n",
              "      <td>1.456311e+05<\/td>\n",
              "    <\/tr>\n",
              "    <tr>\n",
              "      <th>1<\/th>\n",
              "      <td>2<\/td>\n",
              "      <td>Ghost<\/td>\n",
              "      <td>217631306<\/td>\n",
              "      <td>217631306<\/td>\n",
              "      <td>100%<\/td>\n",
              "      <td>-<\/td>\n",
              "      <td>-<\/td>\n",
              "      <td>726573<\/td>\n",
              "      <td>12191540<\/td>\n",
              "      <td>1<\/td>\n",
              "      <td>127<\/td>\n",
              "      <td>11<\/td>\n",
              "      <td>0<\/td>\n",
              "      <td>22000000<\/td>\n",
              "      <td>1.732283e+05<\/td>\n",
              "    <\/tr>\n",
              "    <tr>\n",
              "      <th>2<\/th>\n",
              "      <td>3<\/td>\n",
              "      <td>Dances with Wolves<\/td>\n",
              "      <td>184208848<\/td>\n",
              "      <td>184208848<\/td>\n",
              "      <td>100%<\/td>\n",
              "      <td>-<\/td>\n",
              "      <td>-<\/td>\n",
              "      <td>726689<\/td>\n",
              "      <td>598257<\/td>\n",
              "      <td>2<\/td>\n",
              "      <td>181<\/td>\n",
              "      <td>3<\/td>\n",
              "      <td>0<\/td>\n",
              "      <td>19000000<\/td>\n",
              "      <td>1.049724e+05<\/td>\n",
              "    <\/tr>\n",
              "    <tr>\n",
              "      <th>3<\/th>\n",
              "      <td>4<\/td>\n",
              "      <td>Pretty Woman<\/td>\n",
              "      <td>178406268<\/td>\n",
              "      <td>178406268<\/td>\n",
              "      <td>100%<\/td>\n",
              "      <td>-<\/td>\n",
              "      <td>-<\/td>\n",
              "      <td>726463<\/td>\n",
              "      <td>11280591<\/td>\n",
              "      <td>3<\/td>\n",
              "      <td>119<\/td>\n",
              "      <td>22<\/td>\n",
              "      <td>1<\/td>\n",
              "      <td>14000000<\/td>\n",
              "      <td>1.176471e+05<\/td>\n",
              "    <\/tr>\n",
              "    <tr>\n",
              "      <th>4<\/th>\n",
              "      <td>5<\/td>\n",
              "      <td>Teenage Mutant Ninja Turtles<\/td>\n",
              "      <td>135265915<\/td>\n",
              "      <td>135265915<\/td>\n",
              "      <td>100%<\/td>\n",
              "      <td>-<\/td>\n",
              "      <td>-<\/td>\n",
              "      <td>726470<\/td>\n",
              "      <td>25398367<\/td>\n",
              "      <td>4<\/td>\n",
              "      <td>93<\/td>\n",
              "      <td>10<\/td>\n",
              "      <td>0<\/td>\n",
              "      <td>125000000<\/td>\n",
              "      <td>1.344086e+06<\/td>\n",
              "    <\/tr>\n",
              "    <tr>\n",
              "      <th>...<\/th>\n",
              "      <td>...<\/td>\n",
              "      <td>...<\/td>\n",
              "      <td>...<\/td>\n",
              "      <td>...<\/td>\n",
              "      <td>...<\/td>\n",
              "      <td>...<\/td>\n",
              "      <td>...<\/td>\n",
              "      <td>...<\/td>\n",
              "      <td>...<\/td>\n",
              "      <td>...<\/td>\n",
              "      <td>...<\/td>\n",
              "      <td>...<\/td>\n",
              "      <td>...<\/td>\n",
              "      <td>...<\/td>\n",
              "      <td>...<\/td>\n",
              "    <\/tr>\n",
              "    <tr>\n",
              "      <th>6420<\/th>\n",
              "      <td>102<\/td>\n",
              "      <td>Bo Gia<\/td>\n",
              "      <td>17480489<\/td>\n",
              "      <td>350000<\/td>\n",
              "      <td>2%<\/td>\n",
              "      <td>$17,130,489<\/td>\n",
              "      <td>98%<\/td>\n",
              "      <td>737843<\/td>\n",
              "      <td>350000<\/td>\n",
              "      <td>113<\/td>\n",
              "      <td>128<\/td>\n",
              "      <td>22<\/td>\n",
              "      <td>0<\/td>\n",
              "      <td>1000000<\/td>\n",
              "      <td>7.812500e+03<\/td>\n",
              "    <\/tr>\n",
              "    <tr>\n",
              "      <th>6428<\/th>\n",
              "      <td>110<\/td>\n",
              "      <td>Reminiscence<\/td>\n",
              "      <td>15800193<\/td>\n",
              "      <td>3900193<\/td>\n",
              "      <td>24.7%<\/td>\n",
              "      <td>$11,900,000<\/td>\n",
              "      <td>75.3%<\/td>\n",
              "      <td>737925<\/td>\n",
              "      <td>1950793<\/td>\n",
              "      <td>8<\/td>\n",
              "      <td>116<\/td>\n",
              "      <td>2<\/td>\n",
              "      <td>3<\/td>\n",
              "      <td>67972729<\/td>\n",
              "      <td>5.859718e+05<\/td>\n",
              "    <\/tr>\n",
              "    <tr>\n",
              "      <th>6430<\/th>\n",
              "      <td>112<\/td>\n",
              "      <td>Minari<\/td>\n",
              "      <td>15372376<\/td>\n",
              "      <td>3110580<\/td>\n",
              "      <td>20.2%<\/td>\n",
              "      <td>$12,261,796<\/td>\n",
              "      <td>79.8%<\/td>\n",
              "      <td>737737<\/td>\n",
              "      <td>193460<\/td>\n",
              "      <td>81<\/td>\n",
              "      <td>115<\/td>\n",
              "      <td>11<\/td>\n",
              "      <td>3<\/td>\n",
              "      <td>2000000<\/td>\n",
              "      <td>1.739130e+04<\/td>\n",
              "    <\/tr>\n",
              "    <tr>\n",
              "      <th>6490<\/th>\n",
              "      <td>172<\/td>\n",
              "      <td>Judas and the Black Messiah<\/td>\n",
              "      <td>6798511<\/td>\n",
              "      <td>5446607<\/td>\n",
              "      <td>80.1%<\/td>\n",
              "      <td>$1,351,904<\/td>\n",
              "      <td>19.9%<\/td>\n",
              "      <td>737737<\/td>\n",
              "      <td>2027076<\/td>\n",
              "      <td>8<\/td>\n",
              "      <td>126<\/td>\n",
              "      <td>15<\/td>\n",
              "      <td>1<\/td>\n",
              "      <td>26000000<\/td>\n",
              "      <td>2.063492e+05<\/td>\n",
              "    <\/tr>\n",
              "    <tr>\n",
              "      <th>6514<\/th>\n",
              "      <td>196<\/td>\n",
              "      <td>Harry Potter and the Sorcerer's Stone 2021 Re-...<\/td>\n",
              "      <td>5566768<\/td>\n",
              "      <td><\/td>\n",
              "      <td>-<\/td>\n",
              "      <td>$5,566,768<\/td>\n",
              "      <td>100%<\/td>\n",
              "      <td>738007<\/td>\n",
              "      <td>582125<\/td>\n",
              "      <td>8<\/td>\n",
              "      <td>152<\/td>\n",
              "      <td>3<\/td>\n",
              "      <td>2<\/td>\n",
              "      <td>125000000<\/td>\n",
              "      <td>8.223684e+05<\/td>\n",
              "    <\/tr>\n",
              "  <\/tbody>\n",
              "<\/table>\n",
              "<p>3726 rows × 15 columns<\/p>\n",
              "<\/div>"
            ]
          },
          "metadata":{
            
          },
          "output_type":"display_data"
        }
      ],
      "metadata":{
        
      }
    },
    {
      "cell_type":"markdown",
      "source":[
        "Finally, drop values from the dataframe where the release date is unaccounted for (implying the original data was not manageable from BoxOfficeMojo), as well as drop re-released movies (data outliers)"
      ],
      "attachments":{
        
      },
      "metadata":{
        
      }
    },
    {
      "cell_type":"code",
      "source":[
        "final_df = final_df[final_df['Release Date'] != \"-\"]\n",
        "final_df = final_df[final_df[\"Title\"].str.contains(\"Re-release\") == False]"
      ],
      "execution_count":26,
      "outputs":[
        
      ],
      "metadata":{
        
      }
    },
    {
      "cell_type":"markdown",
      "source":[
        "Our final dataframe."
      ],
      "attachments":{
        
      },
      "metadata":{
        
      }
    },
    {
      "cell_type":"code",
      "source":[
        "final_df\n",
        "\n"
      ],
      "execution_count":27,
      "outputs":[
        {
          "data":{
            "text\/html":[
              "<div>\n",
              "<style scoped>\n",
              "    .dataframe tbody tr th:only-of-type {\n",
              "        vertical-align: middle;\n",
              "    }\n",
              "\n",
              "    .dataframe tbody tr th {\n",
              "        vertical-align: top;\n",
              "    }\n",
              "\n",
              "    .dataframe thead th {\n",
              "        text-align: right;\n",
              "    }\n",
              "<\/style>\n",
              "<table border=\"1\" class=\"dataframe\">\n",
              "  <thead>\n",
              "    <tr style=\"text-align: right;\">\n",
              "      <th><\/th>\n",
              "      <th>Rank<\/th>\n",
              "      <th>Title<\/th>\n",
              "      <th>Worldwide<\/th>\n",
              "      <th>Domestic<\/th>\n",
              "      <th>% from Domestic<\/th>\n",
              "      <th>Foreign<\/th>\n",
              "      <th>% from Foreign<\/th>\n",
              "      <th>Release Date<\/th>\n",
              "      <th>Opening Earnings<\/th>\n",
              "      <th>Domestic Distributor<\/th>\n",
              "      <th>Running Time<\/th>\n",
              "      <th>Genres<\/th>\n",
              "      <th>MPAA<\/th>\n",
              "      <th>Budget<\/th>\n",
              "      <th>Budget per Minute of Runtime<\/th>\n",
              "    <\/tr>\n",
              "  <\/thead>\n",
              "  <tbody>\n",
              "    <tr>\n",
              "      <th>0<\/th>\n",
              "      <td>1<\/td>\n",
              "      <td>Home Alone<\/td>\n",
              "      <td>285761244<\/td>\n",
              "      <td>285761243<\/td>\n",
              "      <td>100%<\/td>\n",
              "      <td>$1<\/td>\n",
              "      <td>&lt;0.1%<\/td>\n",
              "      <td>726696<\/td>\n",
              "      <td>17081997<\/td>\n",
              "      <td>0<\/td>\n",
              "      <td>103<\/td>\n",
              "      <td>22<\/td>\n",
              "      <td>0<\/td>\n",
              "      <td>15000000<\/td>\n",
              "      <td>1.456311e+05<\/td>\n",
              "    <\/tr>\n",
              "    <tr>\n",
              "      <th>1<\/th>\n",
              "      <td>2<\/td>\n",
              "      <td>Ghost<\/td>\n",
              "      <td>217631306<\/td>\n",
              "      <td>217631306<\/td>\n",
              "      <td>100%<\/td>\n",
              "      <td>-<\/td>\n",
              "      <td>-<\/td>\n",
              "      <td>726573<\/td>\n",
              "      <td>12191540<\/td>\n",
              "      <td>1<\/td>\n",
              "      <td>127<\/td>\n",
              "      <td>11<\/td>\n",
              "      <td>0<\/td>\n",
              "      <td>22000000<\/td>\n",
              "      <td>1.732283e+05<\/td>\n",
              "    <\/tr>\n",
              "    <tr>\n",
              "      <th>2<\/th>\n",
              "      <td>3<\/td>\n",
              "      <td>Dances with Wolves<\/td>\n",
              "      <td>184208848<\/td>\n",
              "      <td>184208848<\/td>\n",
              "      <td>100%<\/td>\n",
              "      <td>-<\/td>\n",
              "      <td>-<\/td>\n",
              "      <td>726689<\/td>\n",
              "      <td>598257<\/td>\n",
              "      <td>2<\/td>\n",
              "      <td>181<\/td>\n",
              "      <td>3<\/td>\n",
              "      <td>0<\/td>\n",
              "      <td>19000000<\/td>\n",
              "      <td>1.049724e+05<\/td>\n",
              "    <\/tr>\n",
              "    <tr>\n",
              "      <th>3<\/th>\n",
              "      <td>4<\/td>\n",
              "      <td>Pretty Woman<\/td>\n",
              "      <td>178406268<\/td>\n",
              "      <td>178406268<\/td>\n",
              "      <td>100%<\/td>\n",
              "      <td>-<\/td>\n",
              "      <td>-<\/td>\n",
              "      <td>726463<\/td>\n",
              "      <td>11280591<\/td>\n",
              "      <td>3<\/td>\n",
              "      <td>119<\/td>\n",
              "      <td>22<\/td>\n",
              "      <td>1<\/td>\n",
              "      <td>14000000<\/td>\n",
              "      <td>1.176471e+05<\/td>\n",
              "    <\/tr>\n",
              "    <tr>\n",
              "      <th>4<\/th>\n",
              "      <td>5<\/td>\n",
              "      <td>Teenage Mutant Ninja Turtles<\/td>\n",
              "      <td>135265915<\/td>\n",
              "      <td>135265915<\/td>\n",
              "      <td>100%<\/td>\n",
              "      <td>-<\/td>\n",
              "      <td>-<\/td>\n",
              "      <td>726470<\/td>\n",
              "      <td>25398367<\/td>\n",
              "      <td>4<\/td>\n",
              "      <td>93<\/td>\n",
              "      <td>10<\/td>\n",
              "      <td>0<\/td>\n",
              "      <td>125000000<\/td>\n",
              "      <td>1.344086e+06<\/td>\n",
              "    <\/tr>\n",
              "    <tr>\n",
              "      <th>...<\/th>\n",
              "      <td>...<\/td>\n",
              "      <td>...<\/td>\n",
              "      <td>...<\/td>\n",
              "      <td>...<\/td>\n",
              "      <td>...<\/td>\n",
              "      <td>...<\/td>\n",
              "      <td>...<\/td>\n",
              "      <td>...<\/td>\n",
              "      <td>...<\/td>\n",
              "      <td>...<\/td>\n",
              "      <td>...<\/td>\n",
              "      <td>...<\/td>\n",
              "      <td>...<\/td>\n",
              "      <td>...<\/td>\n",
              "      <td>...<\/td>\n",
              "    <\/tr>\n",
              "    <tr>\n",
              "      <th>6407<\/th>\n",
              "      <td>89<\/td>\n",
              "      <td>The Marksman<\/td>\n",
              "      <td>22988549<\/td>\n",
              "      <td>15566093<\/td>\n",
              "      <td>67.7%<\/td>\n",
              "      <td>$7,422,456<\/td>\n",
              "      <td>32.3%<\/td>\n",
              "      <td>737710<\/td>\n",
              "      <td>3104204<\/td>\n",
              "      <td>77<\/td>\n",
              "      <td>108<\/td>\n",
              "      <td>10<\/td>\n",
              "      <td>3<\/td>\n",
              "      <td>23000000<\/td>\n",
              "      <td>2.129630e+05<\/td>\n",
              "    <\/tr>\n",
              "    <tr>\n",
              "      <th>6420<\/th>\n",
              "      <td>102<\/td>\n",
              "      <td>Bo Gia<\/td>\n",
              "      <td>17480489<\/td>\n",
              "      <td>350000<\/td>\n",
              "      <td>2%<\/td>\n",
              "      <td>$17,130,489<\/td>\n",
              "      <td>98%<\/td>\n",
              "      <td>737843<\/td>\n",
              "      <td>350000<\/td>\n",
              "      <td>113<\/td>\n",
              "      <td>128<\/td>\n",
              "      <td>22<\/td>\n",
              "      <td>0<\/td>\n",
              "      <td>1000000<\/td>\n",
              "      <td>7.812500e+03<\/td>\n",
              "    <\/tr>\n",
              "    <tr>\n",
              "      <th>6428<\/th>\n",
              "      <td>110<\/td>\n",
              "      <td>Reminiscence<\/td>\n",
              "      <td>15800193<\/td>\n",
              "      <td>3900193<\/td>\n",
              "      <td>24.7%<\/td>\n",
              "      <td>$11,900,000<\/td>\n",
              "      <td>75.3%<\/td>\n",
              "      <td>737925<\/td>\n",
              "      <td>1950793<\/td>\n",
              "      <td>8<\/td>\n",
              "      <td>116<\/td>\n",
              "      <td>2<\/td>\n",
              "      <td>3<\/td>\n",
              "      <td>67972729<\/td>\n",
              "      <td>5.859718e+05<\/td>\n",
              "    <\/tr>\n",
              "    <tr>\n",
              "      <th>6430<\/th>\n",
              "      <td>112<\/td>\n",
              "      <td>Minari<\/td>\n",
              "      <td>15372376<\/td>\n",
              "      <td>3110580<\/td>\n",
              "      <td>20.2%<\/td>\n",
              "      <td>$12,261,796<\/td>\n",
              "      <td>79.8%<\/td>\n",
              "      <td>737737<\/td>\n",
              "      <td>193460<\/td>\n",
              "      <td>81<\/td>\n",
              "      <td>115<\/td>\n",
              "      <td>11<\/td>\n",
              "      <td>3<\/td>\n",
              "      <td>2000000<\/td>\n",
              "      <td>1.739130e+04<\/td>\n",
              "    <\/tr>\n",
              "    <tr>\n",
              "      <th>6490<\/th>\n",
              "      <td>172<\/td>\n",
              "      <td>Judas and the Black Messiah<\/td>\n",
              "      <td>6798511<\/td>\n",
              "      <td>5446607<\/td>\n",
              "      <td>80.1%<\/td>\n",
              "      <td>$1,351,904<\/td>\n",
              "      <td>19.9%<\/td>\n",
              "      <td>737737<\/td>\n",
              "      <td>2027076<\/td>\n",
              "      <td>8<\/td>\n",
              "      <td>126<\/td>\n",
              "      <td>15<\/td>\n",
              "      <td>1<\/td>\n",
              "      <td>26000000<\/td>\n",
              "      <td>2.063492e+05<\/td>\n",
              "    <\/tr>\n",
              "  <\/tbody>\n",
              "<\/table>\n",
              "<p>3704 rows × 15 columns<\/p>\n",
              "<\/div>"
            ]
          },
          "metadata":{
            
          },
          "output_type":"display_data"
        }
      ],
      "metadata":{
        
      }
    },
    {
      "cell_type":"markdown",
      "source":[
        "Saves our final dataframe to a csv named \"df_updated1.csv\". "
      ],
      "attachments":{
        
      },
      "metadata":{
        
      }
    },
    {
      "cell_type":"code",
      "source":[
        "final_df.to_csv(\"df_updated1\")"
      ],
      "execution_count":28,
      "outputs":[
        
      ],
      "metadata":{
        
      }
    },
    {
      "cell_type":"markdown",
      "source":[
        "## **3.2 Data Exploration**"
      ],
      "attachments":{
        
      },
      "metadata":{
        
      }
    },
    {
      "cell_type":"markdown",
      "source":[
        "Function to convert a release date in days since AD to release date in plotly express format, YYYY-MM-DD"
      ],
      "attachments":{
        
      },
      "metadata":{
        
      }
    },
    {
      "cell_type":"code",
      "source":[
        "import math\n",
        "\n",
        "def modify_release_date(x):\n",
        "    # cast release date as integer\n",
        "    x = int(x)\n",
        "    # floor the value divided by 365, this is the year, cast from float to int\n",
        "    year = int(math.floor(x\/365))\n",
        "    # floor the remainder from the year division divided by 30, this is our month release\n",
        "    month = int(math.floor((x%365)\/30))\n",
        "    # get the remainder from the year, with the remainder from the month, this is our days.\n",
        "    day = (x%365)%30\n",
        "    # append together in proper format\n",
        "    return str(year) + \"-\" + str(month) + \"-\" + str(day)\n",
        "    \n",
        "visualization_df = visualization_df[visualization_df['Release Date'] != \"-\"]\n",
        "visualization_df[\"Release Date\"] = visualization_df[\"Release Date\"].map(modify_release_date)   "
      ],
      "execution_count":29,
      "outputs":[
        
      ],
      "metadata":{
        
      }
    },
    {
      "cell_type":"markdown",
      "source":[
        "Here we produce a graph that shows the relationship between Release Date and worldwide gross using plotly's scatter plot."
      ],
      "attachments":{
        
      },
      "metadata":{
        
      }
    },
    {
      "cell_type":"code",
      "source":[
        "import plotly.express as px\n",
        "\n",
        "\n",
        "fig = px.scatter(visualization_df, x=\"Release Date\", y=\"Worldwide\", color = \"Domestic Distributor\",\n",
        "                    hover_name = \"Title\", size_max = 50,\n",
        "                    title='Relationship between Release Date and Worldwide gross and the effect of Domestic Distributor.')\n",
        "\n",
        "#modify axis label properties\n",
        "fig.update_xaxes(title_font={\"size\":18, \"family\": \"Courier\", \"color\":\"gray\"}, \n",
        "                 tickfont = {\"size\":16, \"family\": \"Courier\", \"color\":\"gray\"})\n",
        "fig.update_yaxes(title_font={\"size\":18, \"family\": \"Courier\", \"color\":\"gray\"}, \n",
        "                            tickfont = {\"size\":16, \"family\": \"Courier\", \"color\":\"gray\"})\n",
        "\n",
        "fig.show()"
      ],
      "execution_count":30,
      "outputs":[
        {
          "data":{
            "text\/plain":[
              "Unsupported"
            ]
          },
          "metadata":{
            
          },
          "output_type":"display_data"
        }
      ],
      "metadata":{
        
      }
    },
    {
      "cell_type":"markdown",
      "source":[
        "<img src = \"https:\/\/i.ibb.co\/qdVGj67\/newplot-1.png\" width=900\/>"
      ],
      "attachments":{
        
      },
      "metadata":{
        
      }
    },
    {
      "cell_type":"markdown",
      "source":[
        "The above visualization represents a scatter plot that represents the relationship between Release data and the Worldwide Gross. It allows us to see immediately that there is a lack of correlation between worldwide earnings and release date.Although, as time goes on there are more outlier movies with higher budgets. We are also able to see that a majority of the higher budget films come from Universal Pictures and Walt Disney Studios Motion Pictures especially closer to 2021. This is particularly interesting.  "
      ],
      "attachments":{
        
      },
      "metadata":{
        
      }
    },
    {
      "cell_type":"markdown",
      "source":[
        "The below cell is used to extract just the features from the final_df dataframe. This is used for dimensional reduction.  "
      ],
      "attachments":{
        
      },
      "metadata":{
        
      }
    },
    {
      "cell_type":"code",
      "source":[
        "\n",
        "list_columns = [\"Rank\", \"Release Date\",\"Opening Earnings\",\"Domestic Distributor\",\"Running Time\",\"Genres\",\"MPAA\",\"Budget\",\"Budget per Minute of Runtime\"]\n",
        "\n",
        "features_only = final_df[list_columns]\n",
        "features_only = features_only[features_only['Release Date'] != \"-\"]\n",
        "# genres = features_only.loc[:,\"Genres\"]\n",
        "# genres_num = genres.values\n",
        "# for\n",
        "\n",
        "# for column in list_columns:\n",
        "#     print(features_only[features_only[column] == \"-\"])\n",
        "#     # print(type(features_only[column].iloc[0]))\n",
        "features_only"
      ],
      "execution_count":31,
      "outputs":[
        {
          "data":{
            "text\/html":[
              "<div>\n",
              "<style scoped>\n",
              "    .dataframe tbody tr th:only-of-type {\n",
              "        vertical-align: middle;\n",
              "    }\n",
              "\n",
              "    .dataframe tbody tr th {\n",
              "        vertical-align: top;\n",
              "    }\n",
              "\n",
              "    .dataframe thead th {\n",
              "        text-align: right;\n",
              "    }\n",
              "<\/style>\n",
              "<table border=\"1\" class=\"dataframe\">\n",
              "  <thead>\n",
              "    <tr style=\"text-align: right;\">\n",
              "      <th><\/th>\n",
              "      <th>Rank<\/th>\n",
              "      <th>Release Date<\/th>\n",
              "      <th>Opening Earnings<\/th>\n",
              "      <th>Domestic Distributor<\/th>\n",
              "      <th>Running Time<\/th>\n",
              "      <th>Genres<\/th>\n",
              "      <th>MPAA<\/th>\n",
              "      <th>Budget<\/th>\n",
              "      <th>Budget per Minute of Runtime<\/th>\n",
              "    <\/tr>\n",
              "  <\/thead>\n",
              "  <tbody>\n",
              "    <tr>\n",
              "      <th>0<\/th>\n",
              "      <td>1<\/td>\n",
              "      <td>726696<\/td>\n",
              "      <td>17081997<\/td>\n",
              "      <td>0<\/td>\n",
              "      <td>103<\/td>\n",
              "      <td>22<\/td>\n",
              "      <td>0<\/td>\n",
              "      <td>15000000<\/td>\n",
              "      <td>1.456311e+05<\/td>\n",
              "    <\/tr>\n",
              "    <tr>\n",
              "      <th>1<\/th>\n",
              "      <td>2<\/td>\n",
              "      <td>726573<\/td>\n",
              "      <td>12191540<\/td>\n",
              "      <td>1<\/td>\n",
              "      <td>127<\/td>\n",
              "      <td>11<\/td>\n",
              "      <td>0<\/td>\n",
              "      <td>22000000<\/td>\n",
              "      <td>1.732283e+05<\/td>\n",
              "    <\/tr>\n",
              "    <tr>\n",
              "      <th>2<\/th>\n",
              "      <td>3<\/td>\n",
              "      <td>726689<\/td>\n",
              "      <td>598257<\/td>\n",
              "      <td>2<\/td>\n",
              "      <td>181<\/td>\n",
              "      <td>3<\/td>\n",
              "      <td>0<\/td>\n",
              "      <td>19000000<\/td>\n",
              "      <td>1.049724e+05<\/td>\n",
              "    <\/tr>\n",
              "    <tr>\n",
              "      <th>3<\/th>\n",
              "      <td>4<\/td>\n",
              "      <td>726463<\/td>\n",
              "      <td>11280591<\/td>\n",
              "      <td>3<\/td>\n",
              "      <td>119<\/td>\n",
              "      <td>22<\/td>\n",
              "      <td>1<\/td>\n",
              "      <td>14000000<\/td>\n",
              "      <td>1.176471e+05<\/td>\n",
              "    <\/tr>\n",
              "    <tr>\n",
              "      <th>4<\/th>\n",
              "      <td>5<\/td>\n",
              "      <td>726470<\/td>\n",
              "      <td>25398367<\/td>\n",
              "      <td>4<\/td>\n",
              "      <td>93<\/td>\n",
              "      <td>10<\/td>\n",
              "      <td>0<\/td>\n",
              "      <td>125000000<\/td>\n",
              "      <td>1.344086e+06<\/td>\n",
              "    <\/tr>\n",
              "    <tr>\n",
              "      <th>...<\/th>\n",
              "      <td>...<\/td>\n",
              "      <td>...<\/td>\n",
              "      <td>...<\/td>\n",
              "      <td>...<\/td>\n",
              "      <td>...<\/td>\n",
              "      <td>...<\/td>\n",
              "      <td>...<\/td>\n",
              "      <td>...<\/td>\n",
              "      <td>...<\/td>\n",
              "    <\/tr>\n",
              "    <tr>\n",
              "      <th>6407<\/th>\n",
              "      <td>89<\/td>\n",
              "      <td>737710<\/td>\n",
              "      <td>3104204<\/td>\n",
              "      <td>77<\/td>\n",
              "      <td>108<\/td>\n",
              "      <td>10<\/td>\n",
              "      <td>3<\/td>\n",
              "      <td>23000000<\/td>\n",
              "      <td>2.129630e+05<\/td>\n",
              "    <\/tr>\n",
              "    <tr>\n",
              "      <th>6420<\/th>\n",
              "      <td>102<\/td>\n",
              "      <td>737843<\/td>\n",
              "      <td>350000<\/td>\n",
              "      <td>113<\/td>\n",
              "      <td>128<\/td>\n",
              "      <td>22<\/td>\n",
              "      <td>0<\/td>\n",
              "      <td>1000000<\/td>\n",
              "      <td>7.812500e+03<\/td>\n",
              "    <\/tr>\n",
              "    <tr>\n",
              "      <th>6428<\/th>\n",
              "      <td>110<\/td>\n",
              "      <td>737925<\/td>\n",
              "      <td>1950793<\/td>\n",
              "      <td>8<\/td>\n",
              "      <td>116<\/td>\n",
              "      <td>2<\/td>\n",
              "      <td>3<\/td>\n",
              "      <td>67972729<\/td>\n",
              "      <td>5.859718e+05<\/td>\n",
              "    <\/tr>\n",
              "    <tr>\n",
              "      <th>6430<\/th>\n",
              "      <td>112<\/td>\n",
              "      <td>737737<\/td>\n",
              "      <td>193460<\/td>\n",
              "      <td>81<\/td>\n",
              "      <td>115<\/td>\n",
              "      <td>11<\/td>\n",
              "      <td>3<\/td>\n",
              "      <td>2000000<\/td>\n",
              "      <td>1.739130e+04<\/td>\n",
              "    <\/tr>\n",
              "    <tr>\n",
              "      <th>6490<\/th>\n",
              "      <td>172<\/td>\n",
              "      <td>737737<\/td>\n",
              "      <td>2027076<\/td>\n",
              "      <td>8<\/td>\n",
              "      <td>126<\/td>\n",
              "      <td>15<\/td>\n",
              "      <td>1<\/td>\n",
              "      <td>26000000<\/td>\n",
              "      <td>2.063492e+05<\/td>\n",
              "    <\/tr>\n",
              "  <\/tbody>\n",
              "<\/table>\n",
              "<p>3704 rows × 9 columns<\/p>\n",
              "<\/div>"
            ]
          },
          "metadata":{
            
          },
          "output_type":"display_data"
        }
      ],
      "metadata":{
        
      }
    },
    {
      "cell_type":"markdown",
      "source":[
        "Here we use PCA function from sklearn to produce the dimensional reduction numpy array for our dataset. This numpy array is a 2 dimensional numpy array that contains component 1 and component 2 values. "
      ],
      "attachments":{
        
      },
      "metadata":{
        
      }
    },
    {
      "cell_type":"code",
      "source":[
        "from sklearn.decomposition import PCA\n",
        "from sklearn.preprocessing import StandardScaler\n",
        "\n",
        "\n",
        "\n",
        "# instantiate the PCA object and request two components\n",
        "pca = PCA(n_components= 2, random_state=3000)\n",
        "\n",
        "# standardize the features so they are all on the same scale\n",
        "features_standardized = StandardScaler().fit_transform(features_only)\n",
        "\n",
        "# transform the standardized features using the PCA algorithm \n",
        "reduced_data = pca.fit_transform(features_standardized)\n",
        "\n",
        "reduced_data"
      ],
      "execution_count":46,
      "outputs":[
        {
          "data":{
            "text\/html":[
              
            ]
          },
          "metadata":{
            
          },
          "output_type":"display_data"
        }
      ],
      "metadata":{
        
      }
    },
    {
      "cell_type":"markdown",
      "source":[
        
      ],
      "attachments":{
        
      },
      "metadata":{
        
      }
    },
    {
      "cell_type":"markdown",
      "source":[
        "The reduced_data is then converted to a dataframe that can be used to visualize the data. This produces a reduced_df dataframe with columns \"Component 1\", and \"Component 2\". "
      ],
      "attachments":{
        
      },
      "metadata":{
        
      }
    },
    {
      "cell_type":"code",
      "source":[
        "reduced_df = pd.DataFrame(reduced_data, columns = [\"Component1\", \"Component2\"])\n",
        "reduced_df"
      ],
      "execution_count":33,
      "outputs":[
        {
          "data":{
            "text\/html":[
              "<div>\n",
              "<style scoped>\n",
              "    .dataframe tbody tr th:only-of-type {\n",
              "        vertical-align: middle;\n",
              "    }\n",
              "\n",
              "    .dataframe tbody tr th {\n",
              "        vertical-align: top;\n",
              "    }\n",
              "\n",
              "    .dataframe thead th {\n",
              "        text-align: right;\n",
              "    }\n",
              "<\/style>\n",
              "<table border=\"1\" class=\"dataframe\">\n",
              "  <thead>\n",
              "    <tr style=\"text-align: right;\">\n",
              "      <th><\/th>\n",
              "      <th>Component1<\/th>\n",
              "      <th>Component2<\/th>\n",
              "    <\/tr>\n",
              "  <\/thead>\n",
              "  <tbody>\n",
              "    <tr>\n",
              "      <th>0<\/th>\n",
              "      <td>-1.000280<\/td>\n",
              "      <td>-2.701418<\/td>\n",
              "    <\/tr>\n",
              "    <tr>\n",
              "      <th>1<\/th>\n",
              "      <td>-0.425798<\/td>\n",
              "      <td>-2.659443<\/td>\n",
              "    <\/tr>\n",
              "    <tr>\n",
              "      <th>2<\/th>\n",
              "      <td>-0.001735<\/td>\n",
              "      <td>-2.651066<\/td>\n",
              "    <\/tr>\n",
              "    <tr>\n",
              "      <th>3<\/th>\n",
              "      <td>-0.874100<\/td>\n",
              "      <td>-2.492413<\/td>\n",
              "    <\/tr>\n",
              "    <tr>\n",
              "      <th>4<\/th>\n",
              "      <td>1.998162<\/td>\n",
              "      <td>-2.356608<\/td>\n",
              "    <\/tr>\n",
              "    <tr>\n",
              "      <th>...<\/th>\n",
              "      <td>...<\/td>\n",
              "      <td>...<\/td>\n",
              "    <\/tr>\n",
              "    <tr>\n",
              "      <th>3699<\/th>\n",
              "      <td>-0.792446<\/td>\n",
              "      <td>3.231872<\/td>\n",
              "    <\/tr>\n",
              "    <tr>\n",
              "      <th>3700<\/th>\n",
              "      <td>-2.438122<\/td>\n",
              "      <td>3.606674<\/td>\n",
              "    <\/tr>\n",
              "    <tr>\n",
              "      <th>3701<\/th>\n",
              "      <td>0.839781<\/td>\n",
              "      <td>1.481670<\/td>\n",
              "    <\/tr>\n",
              "    <tr>\n",
              "      <th>3702<\/th>\n",
              "      <td>-1.469417<\/td>\n",
              "      <td>3.410265<\/td>\n",
              "    <\/tr>\n",
              "    <tr>\n",
              "      <th>3703<\/th>\n",
              "      <td>-1.217649<\/td>\n",
              "      <td>1.161143<\/td>\n",
              "    <\/tr>\n",
              "  <\/tbody>\n",
              "<\/table>\n",
              "<p>3704 rows × 2 columns<\/p>\n",
              "<\/div>"
            ]
          },
          "metadata":{
            
          },
          "output_type":"display_data"
        }
      ],
      "metadata":{
        
      }
    },
    {
      "cell_type":"markdown",
      "source":[
        "Using plotly's scatter plot we produce the PCA graph for our dataset."
      ],
      "attachments":{
        
      },
      "metadata":{
        
      }
    },
    {
      "cell_type":"code",
      "source":[
        "import plotly.express as px\n",
        "\n",
        "graph = px.scatter(reduced_df, x=\"Component1\", y=\"Component2\", title=\"PCA Graph\")\n",
        "graph.show()"
      ],
      "execution_count":47,
      "outputs":[
        {
          "data":{
            "text\/plain":[
              "Unsupported"
            ]
          },
          "metadata":{
            
          },
          "output_type":"display_data"
        }
      ],
      "metadata":{
        
      }
    },
    {
      "cell_type":"markdown",
      "source":[
        "<img src=\"https:\/\/i.ibb.co\/MfzcXG8\/newplot-2.png\" width=900\/>"
      ],
      "attachments":{
        
      },
      "metadata":{
        
      }
    },
    {
      "cell_type":"markdown",
      "source":[
        "The PCA represents a simplification of our complex, multifeatured dataset as a two-dimensional dataset between two components 1 and 2, derived from the principle component vectors from our feature columns. Because we are performing regression on this dataset rather than classification, the PCA does not give a general classification, nor shows an obvious distribution of our data, besdies a mildly positive correlation."
      ],
      "attachments":{
        
      },
      "metadata":{
        
      }
    },
    {
      "cell_type":"markdown",
      "source":[
        "In the below cell we produce a scatter plot between the opening Earnings and the Worldwide with Title on hover data. We use plotly's scatter plot function to do so. "
      ],
      "attachments":{
        
      },
      "metadata":{
        
      }
    },
    {
      "cell_type":"code",
      "source":[
        "figure0 = px.scatter(final_df, x=\"Opening Earnings\", y=\"Worldwide\", hover_data=[\"Title\"], title=\"Opening Earnings vs Worldwide Earnings\")\n",
        "figure0.show()"
      ],
      "execution_count":35,
      "outputs":[
        {
          "data":{
            "text\/plain":[
              "Unsupported"
            ]
          },
          "metadata":{
            
          },
          "output_type":"display_data"
        }
      ],
      "metadata":{
        
      }
    },
    {
      "cell_type":"markdown",
      "source":[
        "<img src=\"https:\/\/i.ibb.co\/x359TZd\/newplot-3.png\" width=900\/>"
      ],
      "attachments":{
        
      },
      "metadata":{
        
      }
    },
    {
      "cell_type":"markdown",
      "source":[
        "The above graph is a scatter plot with the s varaible being Opening Earnings and the y variable being Worldwide. This graph shows a positive correlation between the Opening Earnings and Worldwide gross of a movie. This means that the higher the opening earnings of a movie, the higher the Worldwide gross of the movie. We see Avengers Endgame having an Opening Earnings of 375.115 million dollars and so resulted in the highest Worldwide of 2.79 Billion dollars.This is expected since the higher the opening earnings of a movie the higher the worldwide for the movie since it indicates higher fanfare for the movie. A scatter plot maeks sense for these variables since it vizualises the correlation between two continous varaibles. "
      ],
      "attachments":{
        
      },
      "metadata":{
        
      }
    },
    {
      "cell_type":"code",
      "source":[
        "figure1 = px.box(final_df, x=\"Domestic Distributor\", y=\"Worldwide\", points=False, title=\"Domestic Distributor vs Worldwide\")\n",
        "figure1.show()"
      ],
      "execution_count":36,
      "outputs":[
        {
          "data":{
            "text\/plain":[
              "Unsupported"
            ]
          },
          "metadata":{
            
          },
          "output_type":"display_data"
        }
      ],
      "metadata":{
        
      }
    },
    {
      "cell_type":"markdown",
      "source":[
        "<img src=\"https:\/\/i.ibb.co\/Xpjyc1j\/newplot-4.png\" width=900\/>"
      ],
      "attachments":{
        
      },
      "metadata":{
        
      }
    },
    {
      "cell_type":"markdown",
      "source":[
        "Box and whisker plot showcases the relation between a distributor and how much they net worldwide per movie. Outliers are represented by the lines stemming from the box, the box itself represents the general range the distributor earns."
      ],
      "attachments":{
        
      },
      "metadata":{
        
      }
    },
    {
      "cell_type":"code",
      "source":[
        "figure2 = px.scatter(final_df, x=\"Budget\", y=\"Worldwide\", hover_data=[\"Title\"], title=\"Budget vs Worldwide Earnings\")\n",
        "figure2.show()"
      ],
      "execution_count":37,
      "outputs":[
        {
          "data":{
            "text\/plain":[
              "Unsupported"
            ]
          },
          "metadata":{
            
          },
          "output_type":"display_data"
        }
      ],
      "metadata":{
        
      }
    },
    {
      "cell_type":"markdown",
      "source":[
        "<img src=\"https:\/\/i.ibb.co\/qmxthy9\/newplot-5.png\" width=900\/>"
      ],
      "attachments":{
        
      },
      "metadata":{
        
      }
    },
    {
      "cell_type":"markdown",
      "source":[
        "General trend for budget v wordwide seems to be positive, with a large cluster near 0,0, dictating movies with low budget generally do not perform well with regards to worldwide earnings."
      ],
      "attachments":{
        
      },
      "metadata":{
        
      }
    },
    {
      "cell_type":"code",
      "source":[
        "figure3 = px.box(final_df, x=\"Genres\", y=\"Worldwide\", points = False, title=\"Genre vs Worldwide Average by Genre\")\n",
        "figure3"
      ],
      "execution_count":38,
      "outputs":[
        {
          "data":{
            "text\/plain":[
              "Unsupported"
            ]
          },
          "metadata":{
            
          },
          "output_type":"display_data"
        }
      ],
      "metadata":{
        
      }
    },
    {
      "cell_type":"markdown",
      "source":[
        "<img src=\"https:\/\/i.ibb.co\/RSgfrjP\/newplot-6.png\" width=900\/>"
      ],
      "attachments":{
        
      },
      "metadata":{
        
      }
    },
    {
      "cell_type":"markdown",
      "source":[
        "This box and whisker plot shows us that there seems to be a correlation amongst genre and expected earnings, showing that Adventure (3) seems to have the highest 75th percentile, shortly followed by mystery (2) and action (10), while Action and Drama (11) seem to have the highest potential for becoming true blockbusters."
      ],
      "attachments":{
        
      },
      "metadata":{
        
      }
    },
    {
      "cell_type":"markdown",
      "source":[
        "## **3.3 Model Training**"
      ],
      "attachments":{
        
      },
      "metadata":{
        
      }
    },
    {
      "cell_type":"markdown",
      "source":[
        "**Preparing Data for Model Fitting**"
      ],
      "attachments":{
        
      },
      "metadata":{
        
      }
    },
    {
      "cell_type":"code",
      "source":[
        "from sklearn.model_selection import train_test_split\n",
        "\n",
        "features = final_df.drop([\"Worldwide\", \"Rank\", \"Title\", \"Domestic\", \"% from Domestic\", \"Foreign\", \"% from Foreign\"], axis=1)\n",
        "features_opening = final_df[[\"Opening Earnings\", \"Budget\", \"Domestic Distributor\", \"MPAA\", \"Release Date\", \"Running Time\", \"Budget per Minute of Runtime\", \"Genres\"]]\n",
        "target = final_df[\"Worldwide\"]\n",
        "\n",
        "def split_dataset(): \n",
        "    X_train, X_test, y_train, y_test = train_test_split(features, target, random_state=3000)\n",
        "    \n",
        "    return X_train, X_test, y_train, y_test"
      ],
      "execution_count":39,
      "outputs":[
        
      ],
      "metadata":{
        
      }
    },
    {
      "cell_type":"code",
      "source":[
        "features"
      ],
      "execution_count":40,
      "outputs":[
        {
          "data":{
            "text\/html":[
              "<div>\n",
              "<style scoped>\n",
              "    .dataframe tbody tr th:only-of-type {\n",
              "        vertical-align: middle;\n",
              "    }\n",
              "\n",
              "    .dataframe tbody tr th {\n",
              "        vertical-align: top;\n",
              "    }\n",
              "\n",
              "    .dataframe thead th {\n",
              "        text-align: right;\n",
              "    }\n",
              "<\/style>\n",
              "<table border=\"1\" class=\"dataframe\">\n",
              "  <thead>\n",
              "    <tr style=\"text-align: right;\">\n",
              "      <th><\/th>\n",
              "      <th>Release Date<\/th>\n",
              "      <th>Opening Earnings<\/th>\n",
              "      <th>Domestic Distributor<\/th>\n",
              "      <th>Running Time<\/th>\n",
              "      <th>Genres<\/th>\n",
              "      <th>MPAA<\/th>\n",
              "      <th>Budget<\/th>\n",
              "      <th>Budget per Minute of Runtime<\/th>\n",
              "    <\/tr>\n",
              "  <\/thead>\n",
              "  <tbody>\n",
              "    <tr>\n",
              "      <th>0<\/th>\n",
              "      <td>726696<\/td>\n",
              "      <td>17081997<\/td>\n",
              "      <td>0<\/td>\n",
              "      <td>103<\/td>\n",
              "      <td>22<\/td>\n",
              "      <td>0<\/td>\n",
              "      <td>15000000<\/td>\n",
              "      <td>1.456311e+05<\/td>\n",
              "    <\/tr>\n",
              "    <tr>\n",
              "      <th>1<\/th>\n",
              "      <td>726573<\/td>\n",
              "      <td>12191540<\/td>\n",
              "      <td>1<\/td>\n",
              "      <td>127<\/td>\n",
              "      <td>11<\/td>\n",
              "      <td>0<\/td>\n",
              "      <td>22000000<\/td>\n",
              "      <td>1.732283e+05<\/td>\n",
              "    <\/tr>\n",
              "    <tr>\n",
              "      <th>2<\/th>\n",
              "      <td>726689<\/td>\n",
              "      <td>598257<\/td>\n",
              "      <td>2<\/td>\n",
              "      <td>181<\/td>\n",
              "      <td>3<\/td>\n",
              "      <td>0<\/td>\n",
              "      <td>19000000<\/td>\n",
              "      <td>1.049724e+05<\/td>\n",
              "    <\/tr>\n",
              "    <tr>\n",
              "      <th>3<\/th>\n",
              "      <td>726463<\/td>\n",
              "      <td>11280591<\/td>\n",
              "      <td>3<\/td>\n",
              "      <td>119<\/td>\n",
              "      <td>22<\/td>\n",
              "      <td>1<\/td>\n",
              "      <td>14000000<\/td>\n",
              "      <td>1.176471e+05<\/td>\n",
              "    <\/tr>\n",
              "    <tr>\n",
              "      <th>4<\/th>\n",
              "      <td>726470<\/td>\n",
              "      <td>25398367<\/td>\n",
              "      <td>4<\/td>\n",
              "      <td>93<\/td>\n",
              "      <td>10<\/td>\n",
              "      <td>0<\/td>\n",
              "      <td>125000000<\/td>\n",
              "      <td>1.344086e+06<\/td>\n",
              "    <\/tr>\n",
              "    <tr>\n",
              "      <th>...<\/th>\n",
              "      <td>...<\/td>\n",
              "      <td>...<\/td>\n",
              "      <td>...<\/td>\n",
              "      <td>...<\/td>\n",
              "      <td>...<\/td>\n",
              "      <td>...<\/td>\n",
              "      <td>...<\/td>\n",
              "      <td>...<\/td>\n",
              "    <\/tr>\n",
              "    <tr>\n",
              "      <th>6407<\/th>\n",
              "      <td>737710<\/td>\n",
              "      <td>3104204<\/td>\n",
              "      <td>77<\/td>\n",
              "      <td>108<\/td>\n",
              "      <td>10<\/td>\n",
              "      <td>3<\/td>\n",
              "      <td>23000000<\/td>\n",
              "      <td>2.129630e+05<\/td>\n",
              "    <\/tr>\n",
              "    <tr>\n",
              "      <th>6420<\/th>\n",
              "      <td>737843<\/td>\n",
              "      <td>350000<\/td>\n",
              "      <td>113<\/td>\n",
              "      <td>128<\/td>\n",
              "      <td>22<\/td>\n",
              "      <td>0<\/td>\n",
              "      <td>1000000<\/td>\n",
              "      <td>7.812500e+03<\/td>\n",
              "    <\/tr>\n",
              "    <tr>\n",
              "      <th>6428<\/th>\n",
              "      <td>737925<\/td>\n",
              "      <td>1950793<\/td>\n",
              "      <td>8<\/td>\n",
              "      <td>116<\/td>\n",
              "      <td>2<\/td>\n",
              "      <td>3<\/td>\n",
              "      <td>67972729<\/td>\n",
              "      <td>5.859718e+05<\/td>\n",
              "    <\/tr>\n",
              "    <tr>\n",
              "      <th>6430<\/th>\n",
              "      <td>737737<\/td>\n",
              "      <td>193460<\/td>\n",
              "      <td>81<\/td>\n",
              "      <td>115<\/td>\n",
              "      <td>11<\/td>\n",
              "      <td>3<\/td>\n",
              "      <td>2000000<\/td>\n",
              "      <td>1.739130e+04<\/td>\n",
              "    <\/tr>\n",
              "    <tr>\n",
              "      <th>6490<\/th>\n",
              "      <td>737737<\/td>\n",
              "      <td>2027076<\/td>\n",
              "      <td>8<\/td>\n",
              "      <td>126<\/td>\n",
              "      <td>15<\/td>\n",
              "      <td>1<\/td>\n",
              "      <td>26000000<\/td>\n",
              "      <td>2.063492e+05<\/td>\n",
              "    <\/tr>\n",
              "  <\/tbody>\n",
              "<\/table>\n",
              "<p>3704 rows × 8 columns<\/p>\n",
              "<\/div>"
            ]
          },
          "metadata":{
            
          },
          "output_type":"display_data"
        }
      ],
      "metadata":{
        
      }
    },
    {
      "cell_type":"markdown",
      "source":[
        "**Initial Testing Regression Algorithms: Multiple Linear Regression, Ridge, Lasso, k-Neighbors, Linear SVR**"
      ],
      "attachments":{
        
      },
      "metadata":{
        
      }
    },
    {
      "cell_type":"code",
      "source":[
        "from sklearn.linear_model import LinearRegression\n",
        "from sklearn.linear_model import Ridge\n",
        "from sklearn.linear_model import Lasso\n",
        "from sklearn.neighbors import KNeighborsRegressor\n",
        "from sklearn.svm import LinearSVR\n",
        "from sklearn.metrics import r2_score\n",
        "from sklearn.metrics import mean_squared_error\n",
        "from sklearn.metrics import mean_absolute_error\n",
        "\n",
        "\n",
        "import warnings\n",
        "warnings.filterwarnings('ignore')\n",
        "\n",
        "X_train, X_test, y_train, y_test = split_dataset()\n",
        "\n",
        "\n",
        "lnr = LinearRegression()\n",
        "rid = Ridge() \n",
        "lass = Lasso() \n",
        "knn = KNeighborsRegressor()\n",
        "svr = LinearSVR(max_iter=100000)\n",
        "\n",
        "\n",
        "estimators = {\"Multiple Linear Regression\": lnr, \"Ridge\": rid, \"Lasso\": lass, \"KNeighborsRegressor\": knn, \"Support Vector Machine\": svr}\n",
        "\n",
        "def test_regression_algorithms(): \n",
        "\n",
        "\n",
        "    for estimator_name, estimator in estimators.items():\n",
        "        model = estimator.fit(X=X_train, y=y_train)\n",
        "\n",
        "        print(estimator_name + \":\")\n",
        "        print(\"\\tR-squared value for training set: \", r2_score(y_train, model.predict(X_train)))\n",
        "        print(\"\\tR-squared value for testing set: \", r2_score(y_test, model.predict(X_test)))\n",
        "\n",
        "        print(\"\\tMean Absolute Error value for training set: \", mean_absolute_error(y_train, model.predict(X_train)))\n",
        "        print(\"\\tMean Absolute Error value for testing set: \", mean_absolute_error(y_test, model.predict(X_test)))\n",
        "\n",
        "test_regression_algorithms()"
      ],
      "execution_count":41,
      "outputs":[
        {
          "name":"stdout",
          "text":[
            "Multiple Linear Regression:\n",
            "\tR-squared value for training set:  0.7967874105749124\n",
            "\tR-squared value for testing set:  0.7467647574237505\n",
            "\tMean Absolute Error value for training set:  53696056.51393392\n",
            "\tMean Absolute Error value for testing set:  56038135.814426005\n",
            "Ridge:\n",
            "\tR-squared value for training set:  0.7967874105544415\n",
            "\tR-squared value for testing set:  0.7467648381172691\n",
            "\tMean Absolute Error value for training set:  53696066.05135578\n",
            "\tMean Absolute Error value for testing set:  56038114.80853845\n",
            "Lasso:\n",
            "\tR-squared value for training set:  0.7967874105749124\n",
            "\tR-squared value for testing set:  0.7467647574948949\n",
            "\tMean Absolute Error value for training set:  53696056.51318199\n",
            "\tMean Absolute Error value for testing set:  56038135.78593249\n",
            "KNeighborsRegressor:\n",
            "\tR-squared value for training set:  0.843565287165408\n",
            "\tR-squared value for testing set:  0.7320903184535146\n",
            "\tMean Absolute Error value for training set:  43754780.49712023\n",
            "\tMean Absolute Error value for testing set:  57454512.73110151\n",
            "Support Vector Machine:\n",
            "\tR-squared value for training set:  0.6452157219366655\n",
            "\tR-squared value for testing set:  0.5031788228360297\n",
            "\tMean Absolute Error value for training set:  62512827.388262644\n",
            "\tMean Absolute Error value for testing set:  70532898.70393054\n"
          ],
          "output_type":"stream"
        }
      ],
      "metadata":{
        
      }
    },
    {
      "cell_type":"markdown",
      "source":[
        "**Feature Selection on our best models**"
      ],
      "attachments":{
        
      },
      "metadata":{
        
      }
    },
    {
      "cell_type":"code",
      "source":[
        "from sklearn.feature_selection import RFE\n",
        "from sklearn.tree import DecisionTreeRegressor\n",
        "\n",
        "best_estimators = {\"Multiple Linear Regression\": lnr, \"Ridge\": rid, \"Lasso\": lass, \"KNeighborsRegressor\": knn}\n",
        "\n",
        "# runs a recursive feature elimination and fitting model on top 4 most important features \n",
        "def RFE_feature_selection():\n",
        "    # answer goes here    \n",
        "    select = RFE(DecisionTreeRegressor(random_state = 3000), n_features_to_select = 4)\n",
        "    select.fit(X_train, y_train)\n",
        "    \n",
        "    X_train_selected = select.transform(X_train)\n",
        "    X_test_selected = select.transform(X_test)\n",
        "    \n",
        "    #model = estimators[\"KNeighborsRegressor\"].fit(X=X_train_selected, y=y_train)\n",
        "\n",
        "    for estimator_name, estimator in best_estimators.items():\n",
        "        model = best_estimators[estimator_name].fit(X=X_train_selected, y=y_train)\n",
        "        print(estimator_name +\":\\n\")\n",
        "\n",
        "\n",
        "    \n",
        "        predicted_training = model.predict(X_train_selected)\n",
        "        expected_training = y_train\n",
        "        r2_training_score = r2_score(expected_training, predicted_training)\n",
        "        \n",
        "        predicted_test = model.predict(X_test_selected)\n",
        "        expected_test = y_test\n",
        "        r2_test_score = r2_score(expected_test, predicted_test)     \n",
        "            \n",
        "        print(\"\\tSelected features after RFE:\")\n",
        "          \n",
        "        selected_features = [] \n",
        "        for feature_name, selected_status in zip(features.columns, select.get_support()):\n",
        "            if(selected_status): \n",
        "                print(\"\\t\\t\" + feature_name)\n",
        "                selected_features.append(feature_name)\n",
        "                 \n",
        "        print(f\"\\t\\t \\n \\t Performance with selected features: \\n \\t\\t R-squared value for training set: {r2_training_score} \\n \\t\\t R-squared value for testing set: {r2_test_score}\")\n",
        "    \n",
        "    return X_train_selected, X_test_selected    \n",
        "\n",
        "X_train_selected, X_test_selected  = RFE_feature_selection()"
      ],
      "execution_count":42,
      "outputs":[
        {
          "name":"stdout",
          "text":[
            "Multiple Linear Regression:\n",
            "\n",
            "\tSelected features after RFE:\n",
            "\t\tRelease Date\n",
            "\t\tOpening Earnings\n",
            "\t\tRunning Time\n",
            "\t\tBudget\n",
            "\t\t \n",
            " \t Performance with selected features: \n",
            " \t\t R-squared value for training set: 0.79479428827808 \n",
            " \t\t R-squared value for testing set: 0.7501914806744027\n",
            "Ridge:\n",
            "\n",
            "\tSelected features after RFE:\n",
            "\t\tRelease Date\n",
            "\t\tOpening Earnings\n",
            "\t\tRunning Time\n",
            "\t\tBudget\n",
            "\t\t \n",
            " \t Performance with selected features: \n",
            " \t\t R-squared value for training set: 0.7947942882780747 \n",
            " \t\t R-squared value for testing set: 0.7501914862589587\n",
            "Lasso:\n",
            "\n",
            "\tSelected features after RFE:\n",
            "\t\tRelease Date\n",
            "\t\tOpening Earnings\n",
            "\t\tRunning Time\n",
            "\t\tBudget\n",
            "\t\t \n",
            " \t Performance with selected features: \n",
            " \t\t R-squared value for training set: 0.79479428827808 \n",
            " \t\t R-squared value for testing set: 0.7501914806918868\n",
            "KNeighborsRegressor:\n",
            "\n",
            "\tSelected features after RFE:\n",
            "\t\tRelease Date\n",
            "\t\tOpening Earnings\n",
            "\t\tRunning Time\n",
            "\t\tBudget\n",
            "\t\t \n",
            " \t Performance with selected features: \n",
            " \t\t R-squared value for training set: 0.8438691575790949 \n",
            " \t\t R-squared value for testing set: 0.7319263719593001\n"
          ],
          "output_type":"stream"
        }
      ],
      "metadata":{
        
      }
    },
    {
      "cell_type":"markdown",
      "source":[
        "## **3.4 Model Optimization**"
      ],
      "attachments":{
        
      },
      "metadata":{
        
      }
    },
    {
      "cell_type":"markdown",
      "source":[
        "We want to optimize our models in order to reduce the overfitting shown in the above R-squared values. "
      ],
      "attachments":{
        
      },
      "metadata":{
        
      }
    },
    {
      "cell_type":"code",
      "source":[
        "from sklearn.model_selection import GridSearchCV\n",
        "\n",
        "# performs a Grid Search through tuning n_neighbors and metric attributes for kNN regression \n",
        "def grid_search(estimator_name):\n",
        "    # answer goes here\n",
        "    if estimator_name == \"Multiple Linear Regression\" :\n",
        "        param_grid = {\"fit_intercept\": [True,False], 'normalize':[True,False]}  \n",
        "        grid_search = GridSearchCV(estimators[\"Multiple Linear Regression\"], param_grid, cv=5)  \n",
        "    elif estimator_name == \"Ridge\" : \n",
        "        param_grid = {\"alpha\":[0.001, 0.01, 0.1, 1, 10, 100],\"max_iter\":[1,10,100,1000,10000,100000],\n",
        "        \"solver\": [\"svd\", \"cholesky\", \"lsqr\", \"sparse_cg\", \"sag\", \"saga\", \"lbfgs\"]}\n",
        "        grid_search = GridSearchCV(estimators[\"Ridge\"], param_grid, cv=5 )\n",
        "    elif estimator_name == \"Lasso\":\n",
        "        param_grid = {\"alpha\":[0.001, 0.01, 0.1, 1, 10, 100], \"max_iter\":[1,10,100,1000,10000,100000],\n",
        "        \"selection\":[\"cyclic\",\"random\"]}\n",
        "        grid_search = GridSearchCV(estimators[\"Lasso\"], param_grid, cv=5)\n",
        "    else:\n",
        "        param_grid = {\"n_neighbors\": [1, 5, 10], \"metric\": [\"euclidean\", \"manhattan\", \"minkowski\"]}  \n",
        "        grid_search = GridSearchCV(estimators[\"KNeighborsRegressor\"], param_grid, cv=5)\n",
        "\n",
        "\n",
        "    grid_search.fit(X=X_train_selected, y=y_train)  \n",
        "    print(estimator_name + \" :\")\n",
        "    print(f\"Best parameters:  {grid_search.best_params_}\")\n",
        "    print(f\"Training set score with best parameters: {grid_search.score(X_train_selected, y_train)}\")\n",
        "    print(f\"Test set score with best parameters: {grid_search.score(X_test_selected, y_test)}\")\n",
        "\n",
        "    return grid_search\n",
        "\n",
        "LNR_tuned = grid_search(\"Multiple Linear Regression\")\n",
        "Ridge_tuned = grid_search(\"Ridge\")\n",
        "Lasso_tuned = grid_search(\"Lasso\")\n",
        "KNN_tuned = grid_search(\"KNeighborsRegressor\")\n",
        "\n",
        "tuned_estimators = {\"Multiple Linear Regression\": LNR_tuned, \"Ridge\": Ridge_tuned, \"Lasso\": Lasso_tuned, \"KNeighborsRegressor\": KNN_tuned}"
      ],
      "execution_count":43,
      "outputs":[
        {
          "name":"stdout",
          "text":[
            "Multiple Linear Regression :\n",
            "Best parameters:  {'fit_intercept': True, 'normalize': False}\n",
            "Training set score with best parameters: 0.79479428827808\n",
            "Test set score with best parameters: 0.7501914806744027\n",
            "Ridge :\n",
            "Best parameters:  {'alpha': 100, 'max_iter': 1, 'solver': 'svd'}\n",
            "Training set score with best parameters: 0.7947942882260691\n",
            "Test set score with best parameters: 0.7501920391251091\n",
            "Lasso :\n",
            "Best parameters:  {'alpha': 0.1, 'max_iter': 10, 'selection': 'random'}\n",
            "Training set score with best parameters: 0.7913221785902639\n",
            "Test set score with best parameters: 0.759091593745693\n",
            "KNeighborsRegressor :\n",
            "Best parameters:  {'metric': 'euclidean', 'n_neighbors': 10}\n",
            "Training set score with best parameters: 0.8096241967449999\n",
            "Test set score with best parameters: 0.7514826229268529\n"
          ],
          "output_type":"stream"
        }
      ],
      "metadata":{
        
      }
    },
    {
      "cell_type":"markdown",
      "source":[
        
      ],
      "attachments":{
        
      },
      "metadata":{
        
      }
    },
    {
      "cell_type":"markdown",
      "source":[
        "## **3.5 Model Testing**"
      ],
      "attachments":{
        
      },
      "metadata":{
        
      }
    },
    {
      "cell_type":"code",
      "source":[
        "def test_tunedModels(): \n",
        "    for estimator_name, estimator in tuned_estimators.items(): \n",
        "        model = estimator.fit(X=X_train_selected, y=y_train)\n",
        "\n",
        "        print(estimator_name + \":\")\n",
        "        print(\"\\tR-squared value for training set: \", r2_score(y_train, model.predict(X_train_selected)))\n",
        "        print(\"\\tR-squared value for testing set: \", r2_score(y_test, model.predict(X_test_selected)))\n",
        "\n",
        "        print(\"\\tMean Absolute Error value for training set: \", mean_absolute_error(y_train, model.predict(X_train_selected)))\n",
        "        print(\"\\tMean Absolute Error value for testing set: \", mean_absolute_error(y_test, model.predict(X_test_selected)))\n",
        "\n",
        "test_tunedModels()"
      ],
      "execution_count":44,
      "outputs":[
        {
          "name":"stdout",
          "text":[
            "Multiple Linear Regression:\n",
            "\tR-squared value for training set:  0.79479428827808\n",
            "\tR-squared value for testing set:  0.7501914806744027\n",
            "\tMean Absolute Error value for training set:  54085431.19913053\n",
            "\tMean Absolute Error value for testing set:  56346736.720943846\n",
            "Ridge:\n",
            "\tR-squared value for training set:  0.7947942882260691\n",
            "\tR-squared value for testing set:  0.7501920391251091\n",
            "\tMean Absolute Error value for training set:  54085326.36419574\n",
            "\tMean Absolute Error value for testing set:  56346641.84350096\n",
            "Lasso:\n",
            "\tR-squared value for training set:  0.7944263261088715\n",
            "\tR-squared value for testing set:  0.7527997051313\n",
            "\tMean Absolute Error value for training set:  54183454.19942743\n",
            "\tMean Absolute Error value for testing set:  56158171.55373882\n",
            "KNeighborsRegressor:\n",
            "\tR-squared value for training set:  0.8096241967449999\n",
            "\tR-squared value for testing set:  0.7514826229268529\n",
            "\tMean Absolute Error value for training set:  47232756.22483802\n",
            "\tMean Absolute Error value for testing set:  54846268.64006479\n"
          ],
          "output_type":"stream"
        }
      ],
      "metadata":{
        
      }
    },
    {
      "cell_type":"markdown",
      "source":[
        "# **4. DISCUSSION**"
      ],
      "attachments":{
        
      },
      "metadata":{
        
      }
    },
    {
      "cell_type":"markdown",
      "source":[
        "**Which algorithms did you compare?**\n",
        "\n",
        "Multiple Linear Regression, Ridge Regression, Lasso Regression, KN regressor, and Linear SVR.\n",
        "\n",
        "**Which algorithm(s) revealed best performance? With what parameters?**\n",
        "\n",
        "All algorithms performed similarly with the exception of Linear SVR, with the top performing model varying per run, usually between KNeighbors Regressor and Lasso Regression. \n",
        "KNeighbors parameters: 'metric': 'euclidean', 'n_neighbors': 10\n",
        "Lasso Parameters: 'alpha': 0.1, 'max_iter': 10, 'selection': 'random'\n",
        "Ridge Parameters: 'alpha': 100, 'max_iter': 1, 'solver': 'svd'\n",
        "Multiple Liner Regression Parameters: 'fit_intercept': True, 'normalize': False\n",
        "\n",
        "**Which algorithm(s) should be used for your predictive model?**\n",
        "\n",
        "Generally KN Regressor has the highest average performance on the test sets. \n",
        "\n",
        "**Based on your findings, can we use the features in your dataset to predict the outcome variable you identified using the algorithms you've applied? (It is okay if the answer is no. We're interested in the process, not the performance of the model.)**\n",
        "\n",
        "Yes. The trained models have a high R-Squared value with relatively low MAEs (compared to the scale of the values they are predicting). The model seems reliable.\n",
        "\n",
        "**Discuss the ethical implications of your project.** \n",
        "\n",
        "The model has the potential to be used by, say, theaters to determine what movies they want to screen on a given day to maximize their revenue. Because of this, running this model on a movie that has a low opening day due to unfair circumstances (say, movies that released during lockdown or a country-encompassing snowstorm) would return an expected lower gross earnings for that movie, which would limit the screenings of that movie by theaters, hence further limiting their profits. This implies our model has the potential, if implemented, to limit the profits of certain films.\n",
        "\n",
        "**Should your results be accepted at face value, why or why not? (e.g. any dataset bias or methodological issues?)**\n",
        "\n",
        "In most cases, yes. However, there is bias in this dataset, as it already is expecting the movie to be popular (top 200 global grossing films per year), so if you tried to feed in a small indie film, chances are it would not handle it as expected.\n",
        "\n",
        "**End this section with a conclusion paragraph containing some pointers for future work**\n",
        "\n",
        "We could have potentially included some form of popularity metric, whether it be through trailer views on youtube, or a worldwide \"popularity score\" that would likely have heavy influence on the model. There are many other interesting ways we could analyze movies, potentially we could grab a script and perform sentiment analysis on it and generalize it to a positive or negative emotion, incorporate user reviews of the movie, etc."
      ],
      "attachments":{
        
      },
      "metadata":{
        
      }
    },
    {
      "cell_type":"markdown",
      "source":[
        "## **CONTRIBUTIONS**"
      ],
      "attachments":{
        
      },
      "metadata":{
        
      }
    },
    {
      "cell_type":"markdown",
      "source":[
        "The entirety of the report was written together by the group during in-person meetings. \n",
        "\n",
        "The idea and concept(problem to solve, type of model, feature\/target variables) of the project was thought of by Avi. Web-scraping was distributed between Nicholas (Box office mojo) as well as Dhivas (The Numbers). "
      ],
      "attachments":{
        
      },
      "metadata":{
        
      }
    },
    {
      "cell_type":"code",
      "source":[
        
      ],
      "execution_count":null,
      "outputs":[
        
      ],
      "metadata":{
        
      }
    }
  ],
  "metadata":{
    
  },
  "nbformat":4,
  "nbformat_minor":0
}